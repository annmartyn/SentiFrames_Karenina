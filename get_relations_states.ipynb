{
 "cells": [
  {
   "cell_type": "code",
   "execution_count": 21,
   "id": "2a1818e1",
   "metadata": {},
   "outputs": [],
   "source": [
    "import pandas as pd\n",
    "import re\n",
    "from nltk.parse import DependencyGraph\n",
    "from pymorphy2 import MorphAnalyzer\n",
    "morph = MorphAnalyzer()\n",
    "from statistics import mean\n",
    "from tqdm import tqdm\n",
    "import json\n",
    "import plotly.express as px\n",
    "from plotly.subplots import make_subplots\n",
    "import plotly.graph_objects as go"
   ]
  },
  {
   "cell_type": "code",
   "execution_count": 22,
   "id": "4e2c6413",
   "metadata": {},
   "outputs": [],
   "source": [
    "from model import Model\n",
    "model = Model('russian-syntagrus-ud-2.0-170801.udpipe')\n",
    "def get_conllu(model, text):\n",
    "    sentences = model.tokenize(text)\n",
    "    for s in sentences:\n",
    "        model.tag(s)\n",
    "        model.parse(s)\n",
    "    conllu_text = model.write(sentences, \"conllu\")\n",
    "    return conllu_text"
   ]
  },
  {
   "cell_type": "code",
   "execution_count": 23,
   "id": "90a95678",
   "metadata": {},
   "outputs": [],
   "source": [
    "def get_dep_tree(text):\n",
    "    trees = []\n",
    "    for sent in text.split('\\n\\n'):\n",
    "        tree = [line for line in sent.split('\\n') if line and line[0] != '#']\n",
    "        trees.append('\\n'.join(tree))\n",
    "    return trees"
   ]
  },
  {
   "cell_type": "code",
   "execution_count": 24,
   "id": "72db752b",
   "metadata": {},
   "outputs": [],
   "source": [
    "def parse_sent(text):\n",
    "    mods_sent = []\n",
    "    a = get_conllu(model, text)\n",
    "    ak = get_dep_tree(a)\n",
    "    for t in ak:\n",
    "        d = DependencyGraph(t)\n",
    "        edges = []\n",
    "        for e in d.nodes:\n",
    "            for dep in d.nodes[e]['deps']:\n",
    "                for t in d.nodes[e]['deps'][dep]:\n",
    "                    edges.append((e, t))\n",
    "        d.root = d.nodes[0]\n",
    "        mods_sent.append(list(d.triples()))\n",
    "    return mods_sent"
   ]
  },
  {
   "cell_type": "code",
   "execution_count": 25,
   "id": "6cfce933",
   "metadata": {},
   "outputs": [],
   "source": [
    "def lemmatize(text):\n",
    "    text = text.replace(',', '')\n",
    "    new = []\n",
    "    for word in text.split():\n",
    "        parsed = morph.parse(word)[0].normal_form\n",
    "        new.append(parsed)\n",
    "    return ' '.join(new)"
   ]
  },
  {
   "cell_type": "code",
   "execution_count": 26,
   "id": "08ad5057",
   "metadata": {},
   "outputs": [],
   "source": [
    "with open('collection.json', 'r', encoding='utf-8') as f:\n",
    "    data = json.load(f)"
   ]
  },
  {
   "cell_type": "code",
   "execution_count": 52,
   "id": "f8f02af0",
   "metadata": {},
   "outputs": [],
   "source": [
    "df = pd.read_csv('names_frames_new4.csv')"
   ]
  },
  {
   "cell_type": "code",
   "execution_count": 53,
   "id": "39c21282",
   "metadata": {},
   "outputs": [],
   "source": [
    "df = df.loc[df['frame_intersections'] != '[]']"
   ]
  },
  {
   "cell_type": "code",
   "execution_count": 54,
   "id": "344b810b",
   "metadata": {},
   "outputs": [],
   "source": [
    "all_text = []\n",
    "for val in df.to_numpy():\n",
    "    one = {'id': val[0], 'text': val[1], 'names': val[2], 'frame': val[5], 'frame_num': val[7]}\n",
    "    all_text.append(one)"
   ]
  },
  {
   "cell_type": "code",
   "execution_count": 55,
   "id": "42511095",
   "metadata": {},
   "outputs": [],
   "source": [
    "onename_texts = []\n",
    "for t in all_text:\n",
    "    if len(t['names'].split(',')) == 1:\n",
    "        onename_texts.append(t)"
   ]
  },
  {
   "cell_type": "code",
   "execution_count": 56,
   "id": "ab132cc6",
   "metadata": {},
   "outputs": [
    {
     "name": "stderr",
     "output_type": "stream",
     "text": [
      "  0%|                                                                                         | 0/1752 [00:00<?, ?it/s]C:\\Users\\yutam\\AppData\\Local\\Programs\\Python\\Python310\\lib\\site-packages\\nltk\\parse\\dependencygraph.py:375: UserWarning:\n",
      "\n",
      "The graph doesn't contain a node that depends on the root element.\n",
      "\n",
      "100%|██████████████████████████████████████████████████████████████████████████████| 1752/1752 [04:02<00:00,  7.21it/s]\n"
     ]
    }
   ],
   "source": [
    "left = []\n",
    "nsubj = {'Стива': [], 'Анна': [], 'Вронский': [], 'Каренин': [], 'Кити': [], 'Левин': [], 'Долли': []}\n",
    "for para in tqdm(onename_texts):\n",
    "    frs = para['frame'].replace(\"['\", '')\n",
    "    frs = frs.replace(\"'\", '')\n",
    "    frs = frs.replace(\"]\", '')\n",
    "    frs = frs.split(', ')\n",
    "    nums = para['frame_num'].replace('[', '')\n",
    "    nums = nums.replace(\"'\", '')\n",
    "    nums = nums.replace(\"]\", '')\n",
    "    nums = nums.split(', ')\n",
    "    for i, frame in enumerate(frs):\n",
    "        text = para['text'] \n",
    "        sents = re.split('\\.|…|\\?|!', text)\n",
    "        for s in sents:\n",
    "            lemmas = lemmatize(s)\n",
    "            if frame in lemmas:\n",
    "                parsed = parse_sent(s)\n",
    "                for d in parsed:\n",
    "                    for dep in d:\n",
    "                        if frame == morph.parse(str(dep[0][0]))[0].normal_form:\n",
    "                            if dep[1] == 'nsubj':\n",
    "                            #    print(dep[2][0])\n",
    "                                if dep[2][0] in ['Степан', 'Облонский', 'Стив', 'Стива', 'Аркадьич']:\n",
    "                                    #print(dep, frame)\n",
    "                                    nsubj['Стива'].append({'id': para['id'], 'FRAME_NUM': nums[i]})\n",
    "                                elif dep[2][0] in ['Анна', 'Аркадьевна', 'Каренина']:\n",
    "                                    nsubj['Анна'].append({'id': para['id'], 'FRAME_NUM': nums[i]})\n",
    "                                elif dep[2][0] in ['Левин', 'Костя', 'Константин']:\n",
    "                                    nsubj['Левин'].append({'id': para['id'], 'FRAME_NUM': nums[i]})\n",
    "                                elif dep[2][0] in ['Кити', 'Кить', 'Щербацкая', 'Екатерина']:\n",
    "                                    nsubj['Кити'].append({'id': para['id'], 'FRAME_NUM': nums[i]})\n",
    "                                elif dep[2][0] in ['Долли', 'Дарья', 'Александровна', 'Облонская']:\n",
    "                                    nsubj['Долли'].append({'id': para['id'], 'FRAME_NUM': nums[i]})\n",
    "                                elif dep[2][0] in ['Вронский', 'Кириллович']:\n",
    "                                    nsubj['Вронский'].append({'id': para['id'], 'FRAME_NUM': nums[i]})\n",
    "                                elif dep[2][0] in ['Каренин', 'Александрович', 'Алексей']:\n",
    "                                    nsubj['Каренин'].append({'id': para['id'], 'FRAME_NUM': nums[i]})\n",
    "            elif len(frame) > 1:\n",
    "                if frame.split()[0] in lemmas:\n",
    "                    parsed = parse_sent(s)\n",
    "                    for d in parsed:\n",
    "                        for dep in d:\n",
    "                            if frame.split()[0] == morph.parse(str(dep[0][0]))[0].normal_form:\n",
    "                                na = morph.parse(str(dep[2][0]))[0].normal_form\n",
    "                                if na in ['Степан', 'Облонский', 'Стив', 'Стива', 'Аркадьич']:\n",
    "                                    #print(dep, frame)\n",
    "                                    nsubj['Стива'].append({'id': para['id'], 'FRAME_NUM': nums[i]})\n",
    "                                elif na in ['Анна', 'Аркадьевна', 'Каренина']:\n",
    "                                    nsubj['Анна'].append({'id': para['id'], 'FRAME_NUM': nums[i]})\n",
    "                                elif na in ['Левин', 'Костя', 'Константин']:\n",
    "                                    nsubj['Левин'].append({'id': para['id'], 'FRAME_NUM': nums[i]})\n",
    "                                elif na in ['Кити', 'Кить', 'Щербацкая', 'Екатерина']:\n",
    "                                    nsubj['Кити'].append({'id': para['id'], 'FRAME_NUM': nums[i]})\n",
    "                                elif na in ['Долли', 'Дарья', 'Александровна', 'Облонская']:\n",
    "                                    nsubj['Долли'].append({'id': para['id'], 'FRAME_NUM': nums[i]})\n",
    "                                elif na in ['Вронский', 'Кириллович']:\n",
    "                                    nsubj['Вронский'].append({'id': para['id'], 'FRAME_NUM': nums[i]})\n",
    "                                elif na in ['Каренин', 'Александрович', 'Алексей']:\n",
    "                                    nsubj['Каренин'].append({'id': para['id'], 'FRAME_NUM': nums[i]})"
   ]
  },
  {
   "cell_type": "code",
   "execution_count": 33,
   "id": "094c66cb",
   "metadata": {},
   "outputs": [],
   "source": [
    "list_names = ['Степан', 'Облонский', 'Стив', 'Стива', 'Аркадьич', 'Анна', 'Аркадьевна', 'Каренина', 'Левин', 'Костя', 'Константин', \n",
    "             'Кити', 'Кить', 'Щербацкая', 'Екатерина', 'Долли', 'Дарья', 'Александровна', 'Облонская', 'Вронский', 'Кириллович', \n",
    "             'Каренин', 'Александрович', 'Алексей']"
   ]
  },
  {
   "cell_type": "code",
   "execution_count": 60,
   "id": "5cb3d73a",
   "metadata": {},
   "outputs": [],
   "source": [
    "new_nsubj = {}\n",
    "for name in nsubj.keys():\n",
    "    new_nsubj[name] = {'i': [], 'ii': [], 'iii': [], 'iv': [], 'v': [], 'vi': [], 'vii': [], 'viii': []} \n",
    "    for f in nsubj[name]:\n",
    "        i = f['id']\n",
    "        if i < 1170:\n",
    "            new_nsubj[name]['i'].append(f['FRAME_NUM'])\n",
    "        elif i < 2409:\n",
    "            new_nsubj[name]['ii'].append(f['FRAME_NUM'])\n",
    "        elif i < 3323:\n",
    "            new_nsubj[name]['iii'].append(f['FRAME_NUM'])\n",
    "        elif i < 4152:\n",
    "            new_nsubj[name]['iv'].append(f['FRAME_NUM'])\n",
    "        elif i < 5121:\n",
    "            new_nsubj[name]['v'].append(f['FRAME_NUM'])\n",
    "        elif i < 6318:\n",
    "            new_nsubj[name]['vi'].append(f['FRAME_NUM'])\n",
    "        elif i < 7265:\n",
    "            new_nsubj[name]['vii'].append(f['FRAME_NUM'])\n",
    "        else:\n",
    "            new_nsubj[name]['viii'].append(f['FRAME_NUM'])"
   ]
  },
  {
   "cell_type": "code",
   "execution_count": 61,
   "id": "52c24caf",
   "metadata": {},
   "outputs": [],
   "source": [
    "cs = {'Стива': {}, 'Анна': {}, 'Вронский': {}, 'Каренин': {}, 'Кити': {}, 'Левин': {}, 'Долли': {}}\n",
    "for char, part in new_nsubj.items():\n",
    "    pers_x = []\n",
    "    pers_y = []\n",
    "    parts = {'i': 1, 'ii': 2, 'iii': 3, 'iv': 4, 'v': 5, 'vi': 6, 'vii': 7, 'viii': 8}\n",
    "   # print(part)\n",
    "    for elem, my_list in part.items():\n",
    "        num_part = parts[elem]\n",
    "        this_part = []\n",
    "        for num in my_list:\n",
    "            ef_st = 0\n",
    "            all_ef = data[num]['frames']\n",
    "            if 'effect' in all_ef.keys():\n",
    "                a = all_ef['effect'][0]\n",
    "                if a[1] == '+':\n",
    "                    ef_st = float(a[2])\n",
    "                else:\n",
    "                    ef_st = float(str(a[1]) + str(a[2]))\n",
    "            elif 'state' in all_ef.keys():\n",
    "                a = all_ef['state'][0]\n",
    "                if a[1] == 'pos':\n",
    "                    ef_st = float(a[2])\n",
    "                else:\n",
    "                    ef_st = float('-' + str(a[2]))\n",
    "            if ef_st != 0:\n",
    "                this_part.append(ef_st)\n",
    "        if len(this_part) > 1:\n",
    "            pers_y.append(mean(this_part))\n",
    "            pers_x.append(num_part)\n",
    "    cs[char] = {'x': pers_x, 'y': pers_y}"
   ]
  },
  {
   "cell_type": "code",
   "execution_count": 68,
   "id": "b68838d3",
   "metadata": {},
   "outputs": [],
   "source": [
    "whole_x = []\n",
    "whole_y = []\n",
    "name = []\n",
    "for n, result in cs.items():\n",
    "    for x in result['x']:\n",
    "        whole_x.append(x)\n",
    "        name.append(n)\n",
    "    for y in result['y']:\n",
    "        whole_y.append(y)"
   ]
  },
  {
   "cell_type": "code",
   "execution_count": 66,
   "id": "e786b0e4",
   "metadata": {},
   "outputs": [
    {
     "data": {
      "application/vnd.plotly.v1+json": {
       "config": {
        "plotlyServerURL": "https://plot.ly"
       },
       "data": [
        {
         "mode": "markers",
         "text": [
          "0.2413793103448276",
          "0.85",
          "0.3333333333333333",
          "0.25",
          "1.0"
         ],
         "textposition": "top right",
         "type": "scatter",
         "x": [
          1,
          3,
          4,
          6,
          7
         ],
         "xaxis": "x",
         "y": [
          0.2413793103448276,
          0.85,
          0.3333333333333333,
          0.25,
          1
         ],
         "yaxis": "y"
        },
        {
         "mode": "markers",
         "type": "scatter",
         "x": [
          1,
          2,
          3,
          5,
          6,
          7
         ],
         "xaxis": "x3",
         "y": [
          0.6923076923076923,
          0.42857142857142855,
          0.3333333333333333,
          1,
          0.6241379310344828,
          0.5
         ],
         "yaxis": "y3"
        },
        {
         "mode": "markers",
         "type": "scatter",
         "x": [
          1,
          2,
          3,
          4,
          5,
          6,
          7
         ],
         "xaxis": "x5",
         "y": [
          0.5269230769230769,
          0.4444444444444444,
          0.5153846153846153,
          0.7909090909090909,
          0.496551724137931,
          0.8142857142857143,
          0.5111111111111111
         ],
         "yaxis": "y5"
        },
        {
         "mode": "markers",
         "type": "scatter",
         "x": [
          1,
          2,
          3,
          4,
          5,
          6,
          7,
          8
         ],
         "xaxis": "x7",
         "y": [
          0.6,
          0.5241935483870968,
          0.8722222222222222,
          0.5045454545454545,
          0.3941176470588235,
          0.27,
          0.42857142857142855,
          0.5
         ],
         "yaxis": "y7"
        },
        {
         "mode": "markers",
         "type": "scatter",
         "x": [
          1,
          2,
          3,
          4,
          5,
          6,
          7,
          8
         ],
         "xaxis": "x2",
         "y": [
          0.5826086956521739,
          0.16129032258064516,
          0.5511111111111111,
          0.5351351351351351,
          0.6436781609195402,
          0.3875,
          0.45652173913043476,
          0.275
         ],
         "yaxis": "y2"
        },
        {
         "mode": "markers",
         "type": "scatter",
         "x": [
          1,
          2,
          4,
          5,
          6,
          7,
          8
         ],
         "xaxis": "x4",
         "y": [
          0.5708333333333333,
          0.39565217391304347,
          1,
          0.5,
          0.3375,
          0.2333333333333333,
          0
         ],
         "yaxis": "y4"
        },
        {
         "mode": "markers",
         "type": "scatter",
         "x": [
          1,
          2,
          3,
          4,
          5,
          6,
          7
         ],
         "xaxis": "x6",
         "y": [
          0.54,
          0.67,
          0.6714285714285714,
          0.4014925373134328,
          0.5153846153846153,
          -0.2,
          0.2875
         ],
         "yaxis": "y6"
        }
       ],
       "layout": {
        "annotations": [
         {
          "font": {
           "size": 16
          },
          "showarrow": false,
          "text": "Стива",
          "x": 0.225,
          "xanchor": "center",
          "xref": "paper",
          "y": 1,
          "yanchor": "bottom",
          "yref": "paper"
         },
         {
          "font": {
           "size": 16
          },
          "showarrow": false,
          "text": "Левин",
          "x": 0.775,
          "xanchor": "center",
          "xref": "paper",
          "y": 1,
          "yanchor": "bottom",
          "yref": "paper"
         },
         {
          "font": {
           "size": 16
          },
          "showarrow": false,
          "text": "Долли",
          "x": 0.225,
          "xanchor": "center",
          "xref": "paper",
          "y": 0.71875,
          "yanchor": "bottom",
          "yref": "paper"
         },
         {
          "font": {
           "size": 16
          },
          "showarrow": false,
          "text": "Кити",
          "x": 0.775,
          "xanchor": "center",
          "xref": "paper",
          "y": 0.71875,
          "yanchor": "bottom",
          "yref": "paper"
         },
         {
          "font": {
           "size": 16
          },
          "showarrow": false,
          "text": "Анна",
          "x": 0.225,
          "xanchor": "center",
          "xref": "paper",
          "y": 0.4375,
          "yanchor": "bottom",
          "yref": "paper"
         },
         {
          "font": {
           "size": 16
          },
          "showarrow": false,
          "text": "Каренин",
          "x": 0.775,
          "xanchor": "center",
          "xref": "paper",
          "y": 0.4375,
          "yanchor": "bottom",
          "yref": "paper"
         },
         {
          "font": {
           "size": 16
          },
          "showarrow": false,
          "text": "Вронский",
          "x": 0.225,
          "xanchor": "center",
          "xref": "paper",
          "y": 0.15625,
          "yanchor": "bottom",
          "yref": "paper"
         }
        ],
        "height": 600,
        "template": {
         "data": {
          "bar": [
           {
            "error_x": {
             "color": "#2a3f5f"
            },
            "error_y": {
             "color": "#2a3f5f"
            },
            "marker": {
             "line": {
              "color": "#E5ECF6",
              "width": 0.5
             },
             "pattern": {
              "fillmode": "overlay",
              "size": 10,
              "solidity": 0.2
             }
            },
            "type": "bar"
           }
          ],
          "barpolar": [
           {
            "marker": {
             "line": {
              "color": "#E5ECF6",
              "width": 0.5
             },
             "pattern": {
              "fillmode": "overlay",
              "size": 10,
              "solidity": 0.2
             }
            },
            "type": "barpolar"
           }
          ],
          "carpet": [
           {
            "aaxis": {
             "endlinecolor": "#2a3f5f",
             "gridcolor": "white",
             "linecolor": "white",
             "minorgridcolor": "white",
             "startlinecolor": "#2a3f5f"
            },
            "baxis": {
             "endlinecolor": "#2a3f5f",
             "gridcolor": "white",
             "linecolor": "white",
             "minorgridcolor": "white",
             "startlinecolor": "#2a3f5f"
            },
            "type": "carpet"
           }
          ],
          "choropleth": [
           {
            "colorbar": {
             "outlinewidth": 0,
             "ticks": ""
            },
            "type": "choropleth"
           }
          ],
          "contour": [
           {
            "colorbar": {
             "outlinewidth": 0,
             "ticks": ""
            },
            "colorscale": [
             [
              0,
              "#0d0887"
             ],
             [
              0.1111111111111111,
              "#46039f"
             ],
             [
              0.2222222222222222,
              "#7201a8"
             ],
             [
              0.3333333333333333,
              "#9c179e"
             ],
             [
              0.4444444444444444,
              "#bd3786"
             ],
             [
              0.5555555555555556,
              "#d8576b"
             ],
             [
              0.6666666666666666,
              "#ed7953"
             ],
             [
              0.7777777777777778,
              "#fb9f3a"
             ],
             [
              0.8888888888888888,
              "#fdca26"
             ],
             [
              1,
              "#f0f921"
             ]
            ],
            "type": "contour"
           }
          ],
          "contourcarpet": [
           {
            "colorbar": {
             "outlinewidth": 0,
             "ticks": ""
            },
            "type": "contourcarpet"
           }
          ],
          "heatmap": [
           {
            "colorbar": {
             "outlinewidth": 0,
             "ticks": ""
            },
            "colorscale": [
             [
              0,
              "#0d0887"
             ],
             [
              0.1111111111111111,
              "#46039f"
             ],
             [
              0.2222222222222222,
              "#7201a8"
             ],
             [
              0.3333333333333333,
              "#9c179e"
             ],
             [
              0.4444444444444444,
              "#bd3786"
             ],
             [
              0.5555555555555556,
              "#d8576b"
             ],
             [
              0.6666666666666666,
              "#ed7953"
             ],
             [
              0.7777777777777778,
              "#fb9f3a"
             ],
             [
              0.8888888888888888,
              "#fdca26"
             ],
             [
              1,
              "#f0f921"
             ]
            ],
            "type": "heatmap"
           }
          ],
          "heatmapgl": [
           {
            "colorbar": {
             "outlinewidth": 0,
             "ticks": ""
            },
            "colorscale": [
             [
              0,
              "#0d0887"
             ],
             [
              0.1111111111111111,
              "#46039f"
             ],
             [
              0.2222222222222222,
              "#7201a8"
             ],
             [
              0.3333333333333333,
              "#9c179e"
             ],
             [
              0.4444444444444444,
              "#bd3786"
             ],
             [
              0.5555555555555556,
              "#d8576b"
             ],
             [
              0.6666666666666666,
              "#ed7953"
             ],
             [
              0.7777777777777778,
              "#fb9f3a"
             ],
             [
              0.8888888888888888,
              "#fdca26"
             ],
             [
              1,
              "#f0f921"
             ]
            ],
            "type": "heatmapgl"
           }
          ],
          "histogram": [
           {
            "marker": {
             "pattern": {
              "fillmode": "overlay",
              "size": 10,
              "solidity": 0.2
             }
            },
            "type": "histogram"
           }
          ],
          "histogram2d": [
           {
            "colorbar": {
             "outlinewidth": 0,
             "ticks": ""
            },
            "colorscale": [
             [
              0,
              "#0d0887"
             ],
             [
              0.1111111111111111,
              "#46039f"
             ],
             [
              0.2222222222222222,
              "#7201a8"
             ],
             [
              0.3333333333333333,
              "#9c179e"
             ],
             [
              0.4444444444444444,
              "#bd3786"
             ],
             [
              0.5555555555555556,
              "#d8576b"
             ],
             [
              0.6666666666666666,
              "#ed7953"
             ],
             [
              0.7777777777777778,
              "#fb9f3a"
             ],
             [
              0.8888888888888888,
              "#fdca26"
             ],
             [
              1,
              "#f0f921"
             ]
            ],
            "type": "histogram2d"
           }
          ],
          "histogram2dcontour": [
           {
            "colorbar": {
             "outlinewidth": 0,
             "ticks": ""
            },
            "colorscale": [
             [
              0,
              "#0d0887"
             ],
             [
              0.1111111111111111,
              "#46039f"
             ],
             [
              0.2222222222222222,
              "#7201a8"
             ],
             [
              0.3333333333333333,
              "#9c179e"
             ],
             [
              0.4444444444444444,
              "#bd3786"
             ],
             [
              0.5555555555555556,
              "#d8576b"
             ],
             [
              0.6666666666666666,
              "#ed7953"
             ],
             [
              0.7777777777777778,
              "#fb9f3a"
             ],
             [
              0.8888888888888888,
              "#fdca26"
             ],
             [
              1,
              "#f0f921"
             ]
            ],
            "type": "histogram2dcontour"
           }
          ],
          "mesh3d": [
           {
            "colorbar": {
             "outlinewidth": 0,
             "ticks": ""
            },
            "type": "mesh3d"
           }
          ],
          "parcoords": [
           {
            "line": {
             "colorbar": {
              "outlinewidth": 0,
              "ticks": ""
             }
            },
            "type": "parcoords"
           }
          ],
          "pie": [
           {
            "automargin": true,
            "type": "pie"
           }
          ],
          "scatter": [
           {
            "fillpattern": {
             "fillmode": "overlay",
             "size": 10,
             "solidity": 0.2
            },
            "type": "scatter"
           }
          ],
          "scatter3d": [
           {
            "line": {
             "colorbar": {
              "outlinewidth": 0,
              "ticks": ""
             }
            },
            "marker": {
             "colorbar": {
              "outlinewidth": 0,
              "ticks": ""
             }
            },
            "type": "scatter3d"
           }
          ],
          "scattercarpet": [
           {
            "marker": {
             "colorbar": {
              "outlinewidth": 0,
              "ticks": ""
             }
            },
            "type": "scattercarpet"
           }
          ],
          "scattergeo": [
           {
            "marker": {
             "colorbar": {
              "outlinewidth": 0,
              "ticks": ""
             }
            },
            "type": "scattergeo"
           }
          ],
          "scattergl": [
           {
            "marker": {
             "colorbar": {
              "outlinewidth": 0,
              "ticks": ""
             }
            },
            "type": "scattergl"
           }
          ],
          "scattermapbox": [
           {
            "marker": {
             "colorbar": {
              "outlinewidth": 0,
              "ticks": ""
             }
            },
            "type": "scattermapbox"
           }
          ],
          "scatterpolar": [
           {
            "marker": {
             "colorbar": {
              "outlinewidth": 0,
              "ticks": ""
             }
            },
            "type": "scatterpolar"
           }
          ],
          "scatterpolargl": [
           {
            "marker": {
             "colorbar": {
              "outlinewidth": 0,
              "ticks": ""
             }
            },
            "type": "scatterpolargl"
           }
          ],
          "scatterternary": [
           {
            "marker": {
             "colorbar": {
              "outlinewidth": 0,
              "ticks": ""
             }
            },
            "type": "scatterternary"
           }
          ],
          "surface": [
           {
            "colorbar": {
             "outlinewidth": 0,
             "ticks": ""
            },
            "colorscale": [
             [
              0,
              "#0d0887"
             ],
             [
              0.1111111111111111,
              "#46039f"
             ],
             [
              0.2222222222222222,
              "#7201a8"
             ],
             [
              0.3333333333333333,
              "#9c179e"
             ],
             [
              0.4444444444444444,
              "#bd3786"
             ],
             [
              0.5555555555555556,
              "#d8576b"
             ],
             [
              0.6666666666666666,
              "#ed7953"
             ],
             [
              0.7777777777777778,
              "#fb9f3a"
             ],
             [
              0.8888888888888888,
              "#fdca26"
             ],
             [
              1,
              "#f0f921"
             ]
            ],
            "type": "surface"
           }
          ],
          "table": [
           {
            "cells": {
             "fill": {
              "color": "#EBF0F8"
             },
             "line": {
              "color": "white"
             }
            },
            "header": {
             "fill": {
              "color": "#C8D4E3"
             },
             "line": {
              "color": "white"
             }
            },
            "type": "table"
           }
          ]
         },
         "layout": {
          "annotationdefaults": {
           "arrowcolor": "#2a3f5f",
           "arrowhead": 0,
           "arrowwidth": 1
          },
          "autotypenumbers": "strict",
          "coloraxis": {
           "colorbar": {
            "outlinewidth": 0,
            "ticks": ""
           }
          },
          "colorscale": {
           "diverging": [
            [
             0,
             "#8e0152"
            ],
            [
             0.1,
             "#c51b7d"
            ],
            [
             0.2,
             "#de77ae"
            ],
            [
             0.3,
             "#f1b6da"
            ],
            [
             0.4,
             "#fde0ef"
            ],
            [
             0.5,
             "#f7f7f7"
            ],
            [
             0.6,
             "#e6f5d0"
            ],
            [
             0.7,
             "#b8e186"
            ],
            [
             0.8,
             "#7fbc41"
            ],
            [
             0.9,
             "#4d9221"
            ],
            [
             1,
             "#276419"
            ]
           ],
           "sequential": [
            [
             0,
             "#0d0887"
            ],
            [
             0.1111111111111111,
             "#46039f"
            ],
            [
             0.2222222222222222,
             "#7201a8"
            ],
            [
             0.3333333333333333,
             "#9c179e"
            ],
            [
             0.4444444444444444,
             "#bd3786"
            ],
            [
             0.5555555555555556,
             "#d8576b"
            ],
            [
             0.6666666666666666,
             "#ed7953"
            ],
            [
             0.7777777777777778,
             "#fb9f3a"
            ],
            [
             0.8888888888888888,
             "#fdca26"
            ],
            [
             1,
             "#f0f921"
            ]
           ],
           "sequentialminus": [
            [
             0,
             "#0d0887"
            ],
            [
             0.1111111111111111,
             "#46039f"
            ],
            [
             0.2222222222222222,
             "#7201a8"
            ],
            [
             0.3333333333333333,
             "#9c179e"
            ],
            [
             0.4444444444444444,
             "#bd3786"
            ],
            [
             0.5555555555555556,
             "#d8576b"
            ],
            [
             0.6666666666666666,
             "#ed7953"
            ],
            [
             0.7777777777777778,
             "#fb9f3a"
            ],
            [
             0.8888888888888888,
             "#fdca26"
            ],
            [
             1,
             "#f0f921"
            ]
           ]
          },
          "colorway": [
           "#636efa",
           "#EF553B",
           "#00cc96",
           "#ab63fa",
           "#FFA15A",
           "#19d3f3",
           "#FF6692",
           "#B6E880",
           "#FF97FF",
           "#FECB52"
          ],
          "font": {
           "color": "#2a3f5f"
          },
          "geo": {
           "bgcolor": "white",
           "lakecolor": "white",
           "landcolor": "#E5ECF6",
           "showlakes": true,
           "showland": true,
           "subunitcolor": "white"
          },
          "hoverlabel": {
           "align": "left"
          },
          "hovermode": "closest",
          "mapbox": {
           "style": "light"
          },
          "paper_bgcolor": "white",
          "plot_bgcolor": "#E5ECF6",
          "polar": {
           "angularaxis": {
            "gridcolor": "white",
            "linecolor": "white",
            "ticks": ""
           },
           "bgcolor": "#E5ECF6",
           "radialaxis": {
            "gridcolor": "white",
            "linecolor": "white",
            "ticks": ""
           }
          },
          "scene": {
           "xaxis": {
            "backgroundcolor": "#E5ECF6",
            "gridcolor": "white",
            "gridwidth": 2,
            "linecolor": "white",
            "showbackground": true,
            "ticks": "",
            "zerolinecolor": "white"
           },
           "yaxis": {
            "backgroundcolor": "#E5ECF6",
            "gridcolor": "white",
            "gridwidth": 2,
            "linecolor": "white",
            "showbackground": true,
            "ticks": "",
            "zerolinecolor": "white"
           },
           "zaxis": {
            "backgroundcolor": "#E5ECF6",
            "gridcolor": "white",
            "gridwidth": 2,
            "linecolor": "white",
            "showbackground": true,
            "ticks": "",
            "zerolinecolor": "white"
           }
          },
          "shapedefaults": {
           "line": {
            "color": "#2a3f5f"
           }
          },
          "ternary": {
           "aaxis": {
            "gridcolor": "white",
            "linecolor": "white",
            "ticks": ""
           },
           "baxis": {
            "gridcolor": "white",
            "linecolor": "white",
            "ticks": ""
           },
           "bgcolor": "#E5ECF6",
           "caxis": {
            "gridcolor": "white",
            "linecolor": "white",
            "ticks": ""
           }
          },
          "title": {
           "x": 0.05
          },
          "xaxis": {
           "automargin": true,
           "gridcolor": "white",
           "linecolor": "white",
           "ticks": "",
           "title": {
            "standoff": 15
           },
           "zerolinecolor": "white",
           "zerolinewidth": 2
          },
          "yaxis": {
           "automargin": true,
           "gridcolor": "white",
           "linecolor": "white",
           "ticks": "",
           "title": {
            "standoff": 15
           },
           "zerolinecolor": "white",
           "zerolinewidth": 2
          }
         }
        },
        "title": {
         "text": "Состояния героев романа исходя из фреймов с одним именем"
        },
        "width": 800,
        "xaxis": {
         "anchor": "y",
         "domain": [
          0,
          0.45
         ],
         "matches": "x7",
         "showticklabels": false
        },
        "xaxis2": {
         "anchor": "y2",
         "domain": [
          0.55,
          1
         ],
         "matches": "x7",
         "showticklabels": false
        },
        "xaxis3": {
         "anchor": "y3",
         "domain": [
          0,
          0.45
         ],
         "matches": "x7",
         "showticklabels": false
        },
        "xaxis4": {
         "anchor": "y4",
         "domain": [
          0.55,
          1
         ],
         "matches": "x7",
         "showticklabels": false
        },
        "xaxis5": {
         "anchor": "y5",
         "domain": [
          0,
          0.45
         ],
         "matches": "x7",
         "showticklabels": false
        },
        "xaxis6": {
         "anchor": "y6",
         "domain": [
          0.55,
          1
         ],
         "matches": "x7",
         "showticklabels": false
        },
        "xaxis7": {
         "anchor": "y7",
         "domain": [
          0,
          0.45
         ]
        },
        "xaxis8": {
         "anchor": "y8",
         "domain": [
          0.55,
          1
         ],
         "matches": "x7"
        },
        "yaxis": {
         "anchor": "x",
         "domain": [
          0.84375,
          1
         ],
         "matches": "y7"
        },
        "yaxis2": {
         "anchor": "x2",
         "domain": [
          0.84375,
          1
         ],
         "matches": "y7",
         "showticklabels": false
        },
        "yaxis3": {
         "anchor": "x3",
         "domain": [
          0.5625,
          0.71875
         ],
         "matches": "y7"
        },
        "yaxis4": {
         "anchor": "x4",
         "domain": [
          0.5625,
          0.71875
         ],
         "matches": "y7",
         "showticklabels": false
        },
        "yaxis5": {
         "anchor": "x5",
         "domain": [
          0.28125,
          0.4375
         ],
         "matches": "y7"
        },
        "yaxis6": {
         "anchor": "x6",
         "domain": [
          0.28125,
          0.4375
         ],
         "matches": "y7",
         "showticklabels": false
        },
        "yaxis7": {
         "anchor": "x7",
         "domain": [
          0,
          0.15625
         ]
        },
        "yaxis8": {
         "anchor": "x8",
         "domain": [
          0,
          0.15625
         ],
         "matches": "y7",
         "showticklabels": false
        }
       }
      },
      "text/html": [
       "<div>                            <div id=\"fae4d877-1aa1-4cc1-b050-b0338807f189\" class=\"plotly-graph-div\" style=\"height:600px; width:800px;\"></div>            <script type=\"text/javascript\">                require([\"plotly\"], function(Plotly) {                    window.PLOTLYENV=window.PLOTLYENV || {};                                    if (document.getElementById(\"fae4d877-1aa1-4cc1-b050-b0338807f189\")) {                    Plotly.newPlot(                        \"fae4d877-1aa1-4cc1-b050-b0338807f189\",                        [{\"mode\":\"markers\",\"text\":[\"0.2413793103448276\",\"0.85\",\"0.3333333333333333\",\"0.25\",\"1.0\"],\"textposition\":\"top right\",\"x\":[1,3,4,6,7],\"y\":[0.2413793103448276,0.85,0.3333333333333333,0.25,1.0],\"type\":\"scatter\",\"xaxis\":\"x\",\"yaxis\":\"y\"},{\"mode\":\"markers\",\"x\":[1,2,3,5,6,7],\"y\":[0.6923076923076923,0.42857142857142855,0.3333333333333333,1.0,0.6241379310344828,0.5],\"type\":\"scatter\",\"xaxis\":\"x3\",\"yaxis\":\"y3\"},{\"mode\":\"markers\",\"x\":[1,2,3,4,5,6,7],\"y\":[0.5269230769230769,0.4444444444444444,0.5153846153846153,0.7909090909090909,0.496551724137931,0.8142857142857143,0.5111111111111111],\"type\":\"scatter\",\"xaxis\":\"x5\",\"yaxis\":\"y5\"},{\"mode\":\"markers\",\"x\":[1,2,3,4,5,6,7,8],\"y\":[0.6,0.5241935483870968,0.8722222222222222,0.5045454545454545,0.3941176470588235,0.27,0.42857142857142855,0.5],\"type\":\"scatter\",\"xaxis\":\"x7\",\"yaxis\":\"y7\"},{\"mode\":\"markers\",\"x\":[1,2,3,4,5,6,7,8],\"y\":[0.5826086956521739,0.16129032258064516,0.5511111111111111,0.5351351351351351,0.6436781609195402,0.3875,0.45652173913043476,0.275],\"type\":\"scatter\",\"xaxis\":\"x2\",\"yaxis\":\"y2\"},{\"mode\":\"markers\",\"x\":[1,2,4,5,6,7,8],\"y\":[0.5708333333333333,0.39565217391304347,1.0,0.5,0.3375,0.2333333333333333,0.0],\"type\":\"scatter\",\"xaxis\":\"x4\",\"yaxis\":\"y4\"},{\"mode\":\"markers\",\"x\":[1,2,3,4,5,6,7],\"y\":[0.54,0.67,0.6714285714285714,0.4014925373134328,0.5153846153846153,-0.2,0.2875],\"type\":\"scatter\",\"xaxis\":\"x6\",\"yaxis\":\"y6\"}],                        {\"template\":{\"data\":{\"histogram2dcontour\":[{\"type\":\"histogram2dcontour\",\"colorbar\":{\"outlinewidth\":0,\"ticks\":\"\"},\"colorscale\":[[0.0,\"#0d0887\"],[0.1111111111111111,\"#46039f\"],[0.2222222222222222,\"#7201a8\"],[0.3333333333333333,\"#9c179e\"],[0.4444444444444444,\"#bd3786\"],[0.5555555555555556,\"#d8576b\"],[0.6666666666666666,\"#ed7953\"],[0.7777777777777778,\"#fb9f3a\"],[0.8888888888888888,\"#fdca26\"],[1.0,\"#f0f921\"]]}],\"choropleth\":[{\"type\":\"choropleth\",\"colorbar\":{\"outlinewidth\":0,\"ticks\":\"\"}}],\"histogram2d\":[{\"type\":\"histogram2d\",\"colorbar\":{\"outlinewidth\":0,\"ticks\":\"\"},\"colorscale\":[[0.0,\"#0d0887\"],[0.1111111111111111,\"#46039f\"],[0.2222222222222222,\"#7201a8\"],[0.3333333333333333,\"#9c179e\"],[0.4444444444444444,\"#bd3786\"],[0.5555555555555556,\"#d8576b\"],[0.6666666666666666,\"#ed7953\"],[0.7777777777777778,\"#fb9f3a\"],[0.8888888888888888,\"#fdca26\"],[1.0,\"#f0f921\"]]}],\"heatmap\":[{\"type\":\"heatmap\",\"colorbar\":{\"outlinewidth\":0,\"ticks\":\"\"},\"colorscale\":[[0.0,\"#0d0887\"],[0.1111111111111111,\"#46039f\"],[0.2222222222222222,\"#7201a8\"],[0.3333333333333333,\"#9c179e\"],[0.4444444444444444,\"#bd3786\"],[0.5555555555555556,\"#d8576b\"],[0.6666666666666666,\"#ed7953\"],[0.7777777777777778,\"#fb9f3a\"],[0.8888888888888888,\"#fdca26\"],[1.0,\"#f0f921\"]]}],\"heatmapgl\":[{\"type\":\"heatmapgl\",\"colorbar\":{\"outlinewidth\":0,\"ticks\":\"\"},\"colorscale\":[[0.0,\"#0d0887\"],[0.1111111111111111,\"#46039f\"],[0.2222222222222222,\"#7201a8\"],[0.3333333333333333,\"#9c179e\"],[0.4444444444444444,\"#bd3786\"],[0.5555555555555556,\"#d8576b\"],[0.6666666666666666,\"#ed7953\"],[0.7777777777777778,\"#fb9f3a\"],[0.8888888888888888,\"#fdca26\"],[1.0,\"#f0f921\"]]}],\"contourcarpet\":[{\"type\":\"contourcarpet\",\"colorbar\":{\"outlinewidth\":0,\"ticks\":\"\"}}],\"contour\":[{\"type\":\"contour\",\"colorbar\":{\"outlinewidth\":0,\"ticks\":\"\"},\"colorscale\":[[0.0,\"#0d0887\"],[0.1111111111111111,\"#46039f\"],[0.2222222222222222,\"#7201a8\"],[0.3333333333333333,\"#9c179e\"],[0.4444444444444444,\"#bd3786\"],[0.5555555555555556,\"#d8576b\"],[0.6666666666666666,\"#ed7953\"],[0.7777777777777778,\"#fb9f3a\"],[0.8888888888888888,\"#fdca26\"],[1.0,\"#f0f921\"]]}],\"surface\":[{\"type\":\"surface\",\"colorbar\":{\"outlinewidth\":0,\"ticks\":\"\"},\"colorscale\":[[0.0,\"#0d0887\"],[0.1111111111111111,\"#46039f\"],[0.2222222222222222,\"#7201a8\"],[0.3333333333333333,\"#9c179e\"],[0.4444444444444444,\"#bd3786\"],[0.5555555555555556,\"#d8576b\"],[0.6666666666666666,\"#ed7953\"],[0.7777777777777778,\"#fb9f3a\"],[0.8888888888888888,\"#fdca26\"],[1.0,\"#f0f921\"]]}],\"mesh3d\":[{\"type\":\"mesh3d\",\"colorbar\":{\"outlinewidth\":0,\"ticks\":\"\"}}],\"scatter\":[{\"fillpattern\":{\"fillmode\":\"overlay\",\"size\":10,\"solidity\":0.2},\"type\":\"scatter\"}],\"parcoords\":[{\"type\":\"parcoords\",\"line\":{\"colorbar\":{\"outlinewidth\":0,\"ticks\":\"\"}}}],\"scatterpolargl\":[{\"type\":\"scatterpolargl\",\"marker\":{\"colorbar\":{\"outlinewidth\":0,\"ticks\":\"\"}}}],\"bar\":[{\"error_x\":{\"color\":\"#2a3f5f\"},\"error_y\":{\"color\":\"#2a3f5f\"},\"marker\":{\"line\":{\"color\":\"#E5ECF6\",\"width\":0.5},\"pattern\":{\"fillmode\":\"overlay\",\"size\":10,\"solidity\":0.2}},\"type\":\"bar\"}],\"scattergeo\":[{\"type\":\"scattergeo\",\"marker\":{\"colorbar\":{\"outlinewidth\":0,\"ticks\":\"\"}}}],\"scatterpolar\":[{\"type\":\"scatterpolar\",\"marker\":{\"colorbar\":{\"outlinewidth\":0,\"ticks\":\"\"}}}],\"histogram\":[{\"marker\":{\"pattern\":{\"fillmode\":\"overlay\",\"size\":10,\"solidity\":0.2}},\"type\":\"histogram\"}],\"scattergl\":[{\"type\":\"scattergl\",\"marker\":{\"colorbar\":{\"outlinewidth\":0,\"ticks\":\"\"}}}],\"scatter3d\":[{\"type\":\"scatter3d\",\"line\":{\"colorbar\":{\"outlinewidth\":0,\"ticks\":\"\"}},\"marker\":{\"colorbar\":{\"outlinewidth\":0,\"ticks\":\"\"}}}],\"scattermapbox\":[{\"type\":\"scattermapbox\",\"marker\":{\"colorbar\":{\"outlinewidth\":0,\"ticks\":\"\"}}}],\"scatterternary\":[{\"type\":\"scatterternary\",\"marker\":{\"colorbar\":{\"outlinewidth\":0,\"ticks\":\"\"}}}],\"scattercarpet\":[{\"type\":\"scattercarpet\",\"marker\":{\"colorbar\":{\"outlinewidth\":0,\"ticks\":\"\"}}}],\"carpet\":[{\"aaxis\":{\"endlinecolor\":\"#2a3f5f\",\"gridcolor\":\"white\",\"linecolor\":\"white\",\"minorgridcolor\":\"white\",\"startlinecolor\":\"#2a3f5f\"},\"baxis\":{\"endlinecolor\":\"#2a3f5f\",\"gridcolor\":\"white\",\"linecolor\":\"white\",\"minorgridcolor\":\"white\",\"startlinecolor\":\"#2a3f5f\"},\"type\":\"carpet\"}],\"table\":[{\"cells\":{\"fill\":{\"color\":\"#EBF0F8\"},\"line\":{\"color\":\"white\"}},\"header\":{\"fill\":{\"color\":\"#C8D4E3\"},\"line\":{\"color\":\"white\"}},\"type\":\"table\"}],\"barpolar\":[{\"marker\":{\"line\":{\"color\":\"#E5ECF6\",\"width\":0.5},\"pattern\":{\"fillmode\":\"overlay\",\"size\":10,\"solidity\":0.2}},\"type\":\"barpolar\"}],\"pie\":[{\"automargin\":true,\"type\":\"pie\"}]},\"layout\":{\"autotypenumbers\":\"strict\",\"colorway\":[\"#636efa\",\"#EF553B\",\"#00cc96\",\"#ab63fa\",\"#FFA15A\",\"#19d3f3\",\"#FF6692\",\"#B6E880\",\"#FF97FF\",\"#FECB52\"],\"font\":{\"color\":\"#2a3f5f\"},\"hovermode\":\"closest\",\"hoverlabel\":{\"align\":\"left\"},\"paper_bgcolor\":\"white\",\"plot_bgcolor\":\"#E5ECF6\",\"polar\":{\"bgcolor\":\"#E5ECF6\",\"angularaxis\":{\"gridcolor\":\"white\",\"linecolor\":\"white\",\"ticks\":\"\"},\"radialaxis\":{\"gridcolor\":\"white\",\"linecolor\":\"white\",\"ticks\":\"\"}},\"ternary\":{\"bgcolor\":\"#E5ECF6\",\"aaxis\":{\"gridcolor\":\"white\",\"linecolor\":\"white\",\"ticks\":\"\"},\"baxis\":{\"gridcolor\":\"white\",\"linecolor\":\"white\",\"ticks\":\"\"},\"caxis\":{\"gridcolor\":\"white\",\"linecolor\":\"white\",\"ticks\":\"\"}},\"coloraxis\":{\"colorbar\":{\"outlinewidth\":0,\"ticks\":\"\"}},\"colorscale\":{\"sequential\":[[0.0,\"#0d0887\"],[0.1111111111111111,\"#46039f\"],[0.2222222222222222,\"#7201a8\"],[0.3333333333333333,\"#9c179e\"],[0.4444444444444444,\"#bd3786\"],[0.5555555555555556,\"#d8576b\"],[0.6666666666666666,\"#ed7953\"],[0.7777777777777778,\"#fb9f3a\"],[0.8888888888888888,\"#fdca26\"],[1.0,\"#f0f921\"]],\"sequentialminus\":[[0.0,\"#0d0887\"],[0.1111111111111111,\"#46039f\"],[0.2222222222222222,\"#7201a8\"],[0.3333333333333333,\"#9c179e\"],[0.4444444444444444,\"#bd3786\"],[0.5555555555555556,\"#d8576b\"],[0.6666666666666666,\"#ed7953\"],[0.7777777777777778,\"#fb9f3a\"],[0.8888888888888888,\"#fdca26\"],[1.0,\"#f0f921\"]],\"diverging\":[[0,\"#8e0152\"],[0.1,\"#c51b7d\"],[0.2,\"#de77ae\"],[0.3,\"#f1b6da\"],[0.4,\"#fde0ef\"],[0.5,\"#f7f7f7\"],[0.6,\"#e6f5d0\"],[0.7,\"#b8e186\"],[0.8,\"#7fbc41\"],[0.9,\"#4d9221\"],[1,\"#276419\"]]},\"xaxis\":{\"gridcolor\":\"white\",\"linecolor\":\"white\",\"ticks\":\"\",\"title\":{\"standoff\":15},\"zerolinecolor\":\"white\",\"automargin\":true,\"zerolinewidth\":2},\"yaxis\":{\"gridcolor\":\"white\",\"linecolor\":\"white\",\"ticks\":\"\",\"title\":{\"standoff\":15},\"zerolinecolor\":\"white\",\"automargin\":true,\"zerolinewidth\":2},\"scene\":{\"xaxis\":{\"backgroundcolor\":\"#E5ECF6\",\"gridcolor\":\"white\",\"linecolor\":\"white\",\"showbackground\":true,\"ticks\":\"\",\"zerolinecolor\":\"white\",\"gridwidth\":2},\"yaxis\":{\"backgroundcolor\":\"#E5ECF6\",\"gridcolor\":\"white\",\"linecolor\":\"white\",\"showbackground\":true,\"ticks\":\"\",\"zerolinecolor\":\"white\",\"gridwidth\":2},\"zaxis\":{\"backgroundcolor\":\"#E5ECF6\",\"gridcolor\":\"white\",\"linecolor\":\"white\",\"showbackground\":true,\"ticks\":\"\",\"zerolinecolor\":\"white\",\"gridwidth\":2}},\"shapedefaults\":{\"line\":{\"color\":\"#2a3f5f\"}},\"annotationdefaults\":{\"arrowcolor\":\"#2a3f5f\",\"arrowhead\":0,\"arrowwidth\":1},\"geo\":{\"bgcolor\":\"white\",\"landcolor\":\"#E5ECF6\",\"subunitcolor\":\"white\",\"showland\":true,\"showlakes\":true,\"lakecolor\":\"white\"},\"title\":{\"x\":0.05},\"mapbox\":{\"style\":\"light\"}}},\"xaxis\":{\"anchor\":\"y\",\"domain\":[0.0,0.45],\"matches\":\"x7\",\"showticklabels\":false},\"yaxis\":{\"anchor\":\"x\",\"domain\":[0.84375,1.0],\"matches\":\"y7\"},\"xaxis2\":{\"anchor\":\"y2\",\"domain\":[0.55,1.0],\"matches\":\"x7\",\"showticklabels\":false},\"yaxis2\":{\"anchor\":\"x2\",\"domain\":[0.84375,1.0],\"matches\":\"y7\",\"showticklabels\":false},\"xaxis3\":{\"anchor\":\"y3\",\"domain\":[0.0,0.45],\"matches\":\"x7\",\"showticklabels\":false},\"yaxis3\":{\"anchor\":\"x3\",\"domain\":[0.5625,0.71875],\"matches\":\"y7\"},\"xaxis4\":{\"anchor\":\"y4\",\"domain\":[0.55,1.0],\"matches\":\"x7\",\"showticklabels\":false},\"yaxis4\":{\"anchor\":\"x4\",\"domain\":[0.5625,0.71875],\"matches\":\"y7\",\"showticklabels\":false},\"xaxis5\":{\"anchor\":\"y5\",\"domain\":[0.0,0.45],\"matches\":\"x7\",\"showticklabels\":false},\"yaxis5\":{\"anchor\":\"x5\",\"domain\":[0.28125,0.4375],\"matches\":\"y7\"},\"xaxis6\":{\"anchor\":\"y6\",\"domain\":[0.55,1.0],\"matches\":\"x7\",\"showticklabels\":false},\"yaxis6\":{\"anchor\":\"x6\",\"domain\":[0.28125,0.4375],\"matches\":\"y7\",\"showticklabels\":false},\"xaxis7\":{\"anchor\":\"y7\",\"domain\":[0.0,0.45]},\"yaxis7\":{\"anchor\":\"x7\",\"domain\":[0.0,0.15625]},\"xaxis8\":{\"anchor\":\"y8\",\"domain\":[0.55,1.0],\"matches\":\"x7\"},\"yaxis8\":{\"anchor\":\"x8\",\"domain\":[0.0,0.15625],\"matches\":\"y7\",\"showticklabels\":false},\"annotations\":[{\"font\":{\"size\":16},\"showarrow\":false,\"text\":\"\\u0421\\u0442\\u0438\\u0432\\u0430\",\"x\":0.225,\"xanchor\":\"center\",\"xref\":\"paper\",\"y\":1.0,\"yanchor\":\"bottom\",\"yref\":\"paper\"},{\"font\":{\"size\":16},\"showarrow\":false,\"text\":\"\\u041b\\u0435\\u0432\\u0438\\u043d\",\"x\":0.775,\"xanchor\":\"center\",\"xref\":\"paper\",\"y\":1.0,\"yanchor\":\"bottom\",\"yref\":\"paper\"},{\"font\":{\"size\":16},\"showarrow\":false,\"text\":\"\\u0414\\u043e\\u043b\\u043b\\u0438\",\"x\":0.225,\"xanchor\":\"center\",\"xref\":\"paper\",\"y\":0.71875,\"yanchor\":\"bottom\",\"yref\":\"paper\"},{\"font\":{\"size\":16},\"showarrow\":false,\"text\":\"\\u041a\\u0438\\u0442\\u0438\",\"x\":0.775,\"xanchor\":\"center\",\"xref\":\"paper\",\"y\":0.71875,\"yanchor\":\"bottom\",\"yref\":\"paper\"},{\"font\":{\"size\":16},\"showarrow\":false,\"text\":\"\\u0410\\u043d\\u043d\\u0430\",\"x\":0.225,\"xanchor\":\"center\",\"xref\":\"paper\",\"y\":0.4375,\"yanchor\":\"bottom\",\"yref\":\"paper\"},{\"font\":{\"size\":16},\"showarrow\":false,\"text\":\"\\u041a\\u0430\\u0440\\u0435\\u043d\\u0438\\u043d\",\"x\":0.775,\"xanchor\":\"center\",\"xref\":\"paper\",\"y\":0.4375,\"yanchor\":\"bottom\",\"yref\":\"paper\"},{\"font\":{\"size\":16},\"showarrow\":false,\"text\":\"\\u0412\\u0440\\u043e\\u043d\\u0441\\u043a\\u0438\\u0439\",\"x\":0.225,\"xanchor\":\"center\",\"xref\":\"paper\",\"y\":0.15625,\"yanchor\":\"bottom\",\"yref\":\"paper\"}],\"title\":{\"text\":\"\\u0421\\u043e\\u0441\\u0442\\u043e\\u044f\\u043d\\u0438\\u044f \\u0433\\u0435\\u0440\\u043e\\u0435\\u0432 \\u0440\\u043e\\u043c\\u0430\\u043d\\u0430 \\u0438\\u0441\\u0445\\u043e\\u0434\\u044f \\u0438\\u0437 \\u0444\\u0440\\u0435\\u0439\\u043c\\u043e\\u0432 \\u0441 \\u043e\\u0434\\u043d\\u0438\\u043c \\u0438\\u043c\\u0435\\u043d\\u0435\\u043c\"},\"height\":600,\"width\":800},                        {\"responsive\": true}                    ).then(function(){\n",
       "                            \n",
       "var gd = document.getElementById('fae4d877-1aa1-4cc1-b050-b0338807f189');\n",
       "var x = new MutationObserver(function (mutations, observer) {{\n",
       "        var display = window.getComputedStyle(gd).display;\n",
       "        if (!display || display === 'none') {{\n",
       "            console.log([gd, 'removed!']);\n",
       "            Plotly.purge(gd);\n",
       "            observer.disconnect();\n",
       "        }}\n",
       "}});\n",
       "\n",
       "// Listen for the removal of the full notebook cells\n",
       "var notebookContainer = gd.closest('#notebook-container');\n",
       "if (notebookContainer) {{\n",
       "    x.observe(notebookContainer, {childList: true});\n",
       "}}\n",
       "\n",
       "// Listen for the clearing of the current output cell\n",
       "var outputEl = gd.closest('.output');\n",
       "if (outputEl) {{\n",
       "    x.observe(outputEl, {childList: true});\n",
       "}}\n",
       "\n",
       "                        })                };                });            </script>        </div>"
      ]
     },
     "metadata": {},
     "output_type": "display_data"
    }
   ],
   "source": [
    "#3\n",
    "fig = make_subplots(rows=4, cols=2,\n",
    "                    shared_xaxes='all',\n",
    "                    shared_yaxes='all',\n",
    "                    subplot_titles = ['Стива', 'Левин', 'Долли', 'Кити', 'Анна', 'Каренин', 'Вронский'])\n",
    "\n",
    "fig.add_trace(\n",
    "    go.Scatter(x=cs['Стива']['x'], y=cs['Стива']['y'], mode='markers', text=cs['Стива']['y'], textposition='top right'),\n",
    "    row=1, col=1\n",
    ")\n",
    "\n",
    "fig.add_trace(\n",
    "    go.Scatter(x=cs['Долли']['x'], y=cs['Долли']['y'], mode='markers'),\n",
    "    row=2, col=1\n",
    ")\n",
    "\n",
    "fig.add_trace(\n",
    "    go.Scatter(x=cs['Анна']['x'], y=cs['Анна']['y'], mode='markers'),\n",
    "    row=3, col=1\n",
    ")\n",
    "\n",
    "fig.add_trace(\n",
    "    go.Scatter(x=cs['Вронский']['x'], y=cs['Вронский']['y'], mode='markers'),\n",
    "    row=4, col=1\n",
    ")\n",
    "\n",
    "fig.add_trace(\n",
    "    go.Scatter(x=cs['Левин']['x'], y=cs['Левин']['y'], mode='markers'),\n",
    "    row=1, col=2\n",
    ")\n",
    "\n",
    "fig.add_trace(\n",
    "    go.Scatter(x=cs['Кити']['x'], y=cs['Кити']['y'], mode='markers'),\n",
    "    row=2, col=2\n",
    ")\n",
    "\n",
    "fig.add_trace(\n",
    "    go.Scatter(x=cs['Каренин']['x'], y=cs['Каренин']['y'], mode='markers'),\n",
    "    row=3, col=2\n",
    ")\n",
    "\n",
    "fig.update_layout(height=600, width=800, title_text=\"Состояния героев романа исходя из фреймов с одним именем\")\n",
    "fig.show()"
   ]
  },
  {
   "cell_type": "code",
   "execution_count": 69,
   "id": "a78db736",
   "metadata": {},
   "outputs": [
    {
     "data": {
      "application/vnd.plotly.v1+json": {
       "config": {
        "plotlyServerURL": "https://plot.ly"
       },
       "data": [
        {
         "hovertemplate": "color=Стива<br>x=%{x}<br>y=%{y}<extra></extra>",
         "legendgroup": "Стива",
         "line": {
          "color": "#636efa",
          "dash": "solid"
         },
         "marker": {
          "symbol": "circle"
         },
         "mode": "lines",
         "name": "Стива",
         "orientation": "v",
         "showlegend": true,
         "type": "scatter",
         "x": [
          1,
          3,
          4,
          6,
          7
         ],
         "xaxis": "x",
         "y": [
          0.2413793103448276,
          0.85,
          0.3333333333333333,
          0.25,
          1
         ],
         "yaxis": "y"
        },
        {
         "hovertemplate": "color=Анна<br>x=%{x}<br>y=%{y}<extra></extra>",
         "legendgroup": "Анна",
         "line": {
          "color": "#EF553B",
          "dash": "solid"
         },
         "marker": {
          "symbol": "circle"
         },
         "mode": "lines",
         "name": "Анна",
         "orientation": "v",
         "showlegend": true,
         "type": "scatter",
         "x": [
          1,
          2,
          3,
          4,
          5,
          6,
          7
         ],
         "xaxis": "x",
         "y": [
          0.5269230769230769,
          0.4444444444444444,
          0.5153846153846153,
          0.7909090909090909,
          0.496551724137931,
          0.8142857142857143,
          0.5111111111111111
         ],
         "yaxis": "y"
        },
        {
         "hovertemplate": "color=Вронский<br>x=%{x}<br>y=%{y}<extra></extra>",
         "legendgroup": "Вронский",
         "line": {
          "color": "#00cc96",
          "dash": "solid"
         },
         "marker": {
          "symbol": "circle"
         },
         "mode": "lines",
         "name": "Вронский",
         "orientation": "v",
         "showlegend": true,
         "type": "scatter",
         "x": [
          1,
          2,
          3,
          4,
          5,
          6,
          7,
          8
         ],
         "xaxis": "x",
         "y": [
          0.6,
          0.5241935483870968,
          0.8722222222222222,
          0.5045454545454545,
          0.3941176470588235,
          0.27,
          0.42857142857142855,
          0.5
         ],
         "yaxis": "y"
        },
        {
         "hovertemplate": "color=Каренин<br>x=%{x}<br>y=%{y}<extra></extra>",
         "legendgroup": "Каренин",
         "line": {
          "color": "#ab63fa",
          "dash": "solid"
         },
         "marker": {
          "symbol": "circle"
         },
         "mode": "lines",
         "name": "Каренин",
         "orientation": "v",
         "showlegend": true,
         "type": "scatter",
         "x": [
          1,
          2,
          3,
          4,
          5,
          6,
          7
         ],
         "xaxis": "x",
         "y": [
          0.54,
          0.67,
          0.6714285714285714,
          0.4014925373134328,
          0.5153846153846153,
          -0.2,
          0.2875
         ],
         "yaxis": "y"
        },
        {
         "hovertemplate": "color=Кити<br>x=%{x}<br>y=%{y}<extra></extra>",
         "legendgroup": "Кити",
         "line": {
          "color": "#FFA15A",
          "dash": "solid"
         },
         "marker": {
          "symbol": "circle"
         },
         "mode": "lines",
         "name": "Кити",
         "orientation": "v",
         "showlegend": true,
         "type": "scatter",
         "x": [
          1,
          2,
          4,
          5,
          6,
          7,
          8
         ],
         "xaxis": "x",
         "y": [
          0.5708333333333333,
          0.39565217391304347,
          1,
          0.5,
          0.3375,
          0.2333333333333333,
          0
         ],
         "yaxis": "y"
        },
        {
         "hovertemplate": "color=Левин<br>x=%{x}<br>y=%{y}<extra></extra>",
         "legendgroup": "Левин",
         "line": {
          "color": "#19d3f3",
          "dash": "solid"
         },
         "marker": {
          "symbol": "circle"
         },
         "mode": "lines",
         "name": "Левин",
         "orientation": "v",
         "showlegend": true,
         "type": "scatter",
         "x": [
          1,
          2,
          3,
          4,
          5,
          6,
          7,
          8
         ],
         "xaxis": "x",
         "y": [
          0.5826086956521739,
          0.16129032258064516,
          0.5511111111111111,
          0.5351351351351351,
          0.6436781609195402,
          0.3875,
          0.45652173913043476,
          0.275
         ],
         "yaxis": "y"
        },
        {
         "hovertemplate": "color=Долли<br>x=%{x}<br>y=%{y}<extra></extra>",
         "legendgroup": "Долли",
         "line": {
          "color": "#FF6692",
          "dash": "solid"
         },
         "marker": {
          "symbol": "circle"
         },
         "mode": "lines",
         "name": "Долли",
         "orientation": "v",
         "showlegend": true,
         "type": "scatter",
         "x": [
          1,
          2,
          3,
          5,
          6,
          7
         ],
         "xaxis": "x",
         "y": [
          0.6923076923076923,
          0.42857142857142855,
          0.3333333333333333,
          1,
          0.6241379310344828,
          0.5
         ],
         "yaxis": "y"
        }
       ],
       "layout": {
        "legend": {
         "title": {
          "text": "color"
         },
         "tracegroupgap": 0
        },
        "margin": {
         "t": 60
        },
        "template": {
         "data": {
          "bar": [
           {
            "error_x": {
             "color": "#2a3f5f"
            },
            "error_y": {
             "color": "#2a3f5f"
            },
            "marker": {
             "line": {
              "color": "#E5ECF6",
              "width": 0.5
             },
             "pattern": {
              "fillmode": "overlay",
              "size": 10,
              "solidity": 0.2
             }
            },
            "type": "bar"
           }
          ],
          "barpolar": [
           {
            "marker": {
             "line": {
              "color": "#E5ECF6",
              "width": 0.5
             },
             "pattern": {
              "fillmode": "overlay",
              "size": 10,
              "solidity": 0.2
             }
            },
            "type": "barpolar"
           }
          ],
          "carpet": [
           {
            "aaxis": {
             "endlinecolor": "#2a3f5f",
             "gridcolor": "white",
             "linecolor": "white",
             "minorgridcolor": "white",
             "startlinecolor": "#2a3f5f"
            },
            "baxis": {
             "endlinecolor": "#2a3f5f",
             "gridcolor": "white",
             "linecolor": "white",
             "minorgridcolor": "white",
             "startlinecolor": "#2a3f5f"
            },
            "type": "carpet"
           }
          ],
          "choropleth": [
           {
            "colorbar": {
             "outlinewidth": 0,
             "ticks": ""
            },
            "type": "choropleth"
           }
          ],
          "contour": [
           {
            "colorbar": {
             "outlinewidth": 0,
             "ticks": ""
            },
            "colorscale": [
             [
              0,
              "#0d0887"
             ],
             [
              0.1111111111111111,
              "#46039f"
             ],
             [
              0.2222222222222222,
              "#7201a8"
             ],
             [
              0.3333333333333333,
              "#9c179e"
             ],
             [
              0.4444444444444444,
              "#bd3786"
             ],
             [
              0.5555555555555556,
              "#d8576b"
             ],
             [
              0.6666666666666666,
              "#ed7953"
             ],
             [
              0.7777777777777778,
              "#fb9f3a"
             ],
             [
              0.8888888888888888,
              "#fdca26"
             ],
             [
              1,
              "#f0f921"
             ]
            ],
            "type": "contour"
           }
          ],
          "contourcarpet": [
           {
            "colorbar": {
             "outlinewidth": 0,
             "ticks": ""
            },
            "type": "contourcarpet"
           }
          ],
          "heatmap": [
           {
            "colorbar": {
             "outlinewidth": 0,
             "ticks": ""
            },
            "colorscale": [
             [
              0,
              "#0d0887"
             ],
             [
              0.1111111111111111,
              "#46039f"
             ],
             [
              0.2222222222222222,
              "#7201a8"
             ],
             [
              0.3333333333333333,
              "#9c179e"
             ],
             [
              0.4444444444444444,
              "#bd3786"
             ],
             [
              0.5555555555555556,
              "#d8576b"
             ],
             [
              0.6666666666666666,
              "#ed7953"
             ],
             [
              0.7777777777777778,
              "#fb9f3a"
             ],
             [
              0.8888888888888888,
              "#fdca26"
             ],
             [
              1,
              "#f0f921"
             ]
            ],
            "type": "heatmap"
           }
          ],
          "heatmapgl": [
           {
            "colorbar": {
             "outlinewidth": 0,
             "ticks": ""
            },
            "colorscale": [
             [
              0,
              "#0d0887"
             ],
             [
              0.1111111111111111,
              "#46039f"
             ],
             [
              0.2222222222222222,
              "#7201a8"
             ],
             [
              0.3333333333333333,
              "#9c179e"
             ],
             [
              0.4444444444444444,
              "#bd3786"
             ],
             [
              0.5555555555555556,
              "#d8576b"
             ],
             [
              0.6666666666666666,
              "#ed7953"
             ],
             [
              0.7777777777777778,
              "#fb9f3a"
             ],
             [
              0.8888888888888888,
              "#fdca26"
             ],
             [
              1,
              "#f0f921"
             ]
            ],
            "type": "heatmapgl"
           }
          ],
          "histogram": [
           {
            "marker": {
             "pattern": {
              "fillmode": "overlay",
              "size": 10,
              "solidity": 0.2
             }
            },
            "type": "histogram"
           }
          ],
          "histogram2d": [
           {
            "colorbar": {
             "outlinewidth": 0,
             "ticks": ""
            },
            "colorscale": [
             [
              0,
              "#0d0887"
             ],
             [
              0.1111111111111111,
              "#46039f"
             ],
             [
              0.2222222222222222,
              "#7201a8"
             ],
             [
              0.3333333333333333,
              "#9c179e"
             ],
             [
              0.4444444444444444,
              "#bd3786"
             ],
             [
              0.5555555555555556,
              "#d8576b"
             ],
             [
              0.6666666666666666,
              "#ed7953"
             ],
             [
              0.7777777777777778,
              "#fb9f3a"
             ],
             [
              0.8888888888888888,
              "#fdca26"
             ],
             [
              1,
              "#f0f921"
             ]
            ],
            "type": "histogram2d"
           }
          ],
          "histogram2dcontour": [
           {
            "colorbar": {
             "outlinewidth": 0,
             "ticks": ""
            },
            "colorscale": [
             [
              0,
              "#0d0887"
             ],
             [
              0.1111111111111111,
              "#46039f"
             ],
             [
              0.2222222222222222,
              "#7201a8"
             ],
             [
              0.3333333333333333,
              "#9c179e"
             ],
             [
              0.4444444444444444,
              "#bd3786"
             ],
             [
              0.5555555555555556,
              "#d8576b"
             ],
             [
              0.6666666666666666,
              "#ed7953"
             ],
             [
              0.7777777777777778,
              "#fb9f3a"
             ],
             [
              0.8888888888888888,
              "#fdca26"
             ],
             [
              1,
              "#f0f921"
             ]
            ],
            "type": "histogram2dcontour"
           }
          ],
          "mesh3d": [
           {
            "colorbar": {
             "outlinewidth": 0,
             "ticks": ""
            },
            "type": "mesh3d"
           }
          ],
          "parcoords": [
           {
            "line": {
             "colorbar": {
              "outlinewidth": 0,
              "ticks": ""
             }
            },
            "type": "parcoords"
           }
          ],
          "pie": [
           {
            "automargin": true,
            "type": "pie"
           }
          ],
          "scatter": [
           {
            "fillpattern": {
             "fillmode": "overlay",
             "size": 10,
             "solidity": 0.2
            },
            "type": "scatter"
           }
          ],
          "scatter3d": [
           {
            "line": {
             "colorbar": {
              "outlinewidth": 0,
              "ticks": ""
             }
            },
            "marker": {
             "colorbar": {
              "outlinewidth": 0,
              "ticks": ""
             }
            },
            "type": "scatter3d"
           }
          ],
          "scattercarpet": [
           {
            "marker": {
             "colorbar": {
              "outlinewidth": 0,
              "ticks": ""
             }
            },
            "type": "scattercarpet"
           }
          ],
          "scattergeo": [
           {
            "marker": {
             "colorbar": {
              "outlinewidth": 0,
              "ticks": ""
             }
            },
            "type": "scattergeo"
           }
          ],
          "scattergl": [
           {
            "marker": {
             "colorbar": {
              "outlinewidth": 0,
              "ticks": ""
             }
            },
            "type": "scattergl"
           }
          ],
          "scattermapbox": [
           {
            "marker": {
             "colorbar": {
              "outlinewidth": 0,
              "ticks": ""
             }
            },
            "type": "scattermapbox"
           }
          ],
          "scatterpolar": [
           {
            "marker": {
             "colorbar": {
              "outlinewidth": 0,
              "ticks": ""
             }
            },
            "type": "scatterpolar"
           }
          ],
          "scatterpolargl": [
           {
            "marker": {
             "colorbar": {
              "outlinewidth": 0,
              "ticks": ""
             }
            },
            "type": "scatterpolargl"
           }
          ],
          "scatterternary": [
           {
            "marker": {
             "colorbar": {
              "outlinewidth": 0,
              "ticks": ""
             }
            },
            "type": "scatterternary"
           }
          ],
          "surface": [
           {
            "colorbar": {
             "outlinewidth": 0,
             "ticks": ""
            },
            "colorscale": [
             [
              0,
              "#0d0887"
             ],
             [
              0.1111111111111111,
              "#46039f"
             ],
             [
              0.2222222222222222,
              "#7201a8"
             ],
             [
              0.3333333333333333,
              "#9c179e"
             ],
             [
              0.4444444444444444,
              "#bd3786"
             ],
             [
              0.5555555555555556,
              "#d8576b"
             ],
             [
              0.6666666666666666,
              "#ed7953"
             ],
             [
              0.7777777777777778,
              "#fb9f3a"
             ],
             [
              0.8888888888888888,
              "#fdca26"
             ],
             [
              1,
              "#f0f921"
             ]
            ],
            "type": "surface"
           }
          ],
          "table": [
           {
            "cells": {
             "fill": {
              "color": "#EBF0F8"
             },
             "line": {
              "color": "white"
             }
            },
            "header": {
             "fill": {
              "color": "#C8D4E3"
             },
             "line": {
              "color": "white"
             }
            },
            "type": "table"
           }
          ]
         },
         "layout": {
          "annotationdefaults": {
           "arrowcolor": "#2a3f5f",
           "arrowhead": 0,
           "arrowwidth": 1
          },
          "autotypenumbers": "strict",
          "coloraxis": {
           "colorbar": {
            "outlinewidth": 0,
            "ticks": ""
           }
          },
          "colorscale": {
           "diverging": [
            [
             0,
             "#8e0152"
            ],
            [
             0.1,
             "#c51b7d"
            ],
            [
             0.2,
             "#de77ae"
            ],
            [
             0.3,
             "#f1b6da"
            ],
            [
             0.4,
             "#fde0ef"
            ],
            [
             0.5,
             "#f7f7f7"
            ],
            [
             0.6,
             "#e6f5d0"
            ],
            [
             0.7,
             "#b8e186"
            ],
            [
             0.8,
             "#7fbc41"
            ],
            [
             0.9,
             "#4d9221"
            ],
            [
             1,
             "#276419"
            ]
           ],
           "sequential": [
            [
             0,
             "#0d0887"
            ],
            [
             0.1111111111111111,
             "#46039f"
            ],
            [
             0.2222222222222222,
             "#7201a8"
            ],
            [
             0.3333333333333333,
             "#9c179e"
            ],
            [
             0.4444444444444444,
             "#bd3786"
            ],
            [
             0.5555555555555556,
             "#d8576b"
            ],
            [
             0.6666666666666666,
             "#ed7953"
            ],
            [
             0.7777777777777778,
             "#fb9f3a"
            ],
            [
             0.8888888888888888,
             "#fdca26"
            ],
            [
             1,
             "#f0f921"
            ]
           ],
           "sequentialminus": [
            [
             0,
             "#0d0887"
            ],
            [
             0.1111111111111111,
             "#46039f"
            ],
            [
             0.2222222222222222,
             "#7201a8"
            ],
            [
             0.3333333333333333,
             "#9c179e"
            ],
            [
             0.4444444444444444,
             "#bd3786"
            ],
            [
             0.5555555555555556,
             "#d8576b"
            ],
            [
             0.6666666666666666,
             "#ed7953"
            ],
            [
             0.7777777777777778,
             "#fb9f3a"
            ],
            [
             0.8888888888888888,
             "#fdca26"
            ],
            [
             1,
             "#f0f921"
            ]
           ]
          },
          "colorway": [
           "#636efa",
           "#EF553B",
           "#00cc96",
           "#ab63fa",
           "#FFA15A",
           "#19d3f3",
           "#FF6692",
           "#B6E880",
           "#FF97FF",
           "#FECB52"
          ],
          "font": {
           "color": "#2a3f5f"
          },
          "geo": {
           "bgcolor": "white",
           "lakecolor": "white",
           "landcolor": "#E5ECF6",
           "showlakes": true,
           "showland": true,
           "subunitcolor": "white"
          },
          "hoverlabel": {
           "align": "left"
          },
          "hovermode": "closest",
          "mapbox": {
           "style": "light"
          },
          "paper_bgcolor": "white",
          "plot_bgcolor": "#E5ECF6",
          "polar": {
           "angularaxis": {
            "gridcolor": "white",
            "linecolor": "white",
            "ticks": ""
           },
           "bgcolor": "#E5ECF6",
           "radialaxis": {
            "gridcolor": "white",
            "linecolor": "white",
            "ticks": ""
           }
          },
          "scene": {
           "xaxis": {
            "backgroundcolor": "#E5ECF6",
            "gridcolor": "white",
            "gridwidth": 2,
            "linecolor": "white",
            "showbackground": true,
            "ticks": "",
            "zerolinecolor": "white"
           },
           "yaxis": {
            "backgroundcolor": "#E5ECF6",
            "gridcolor": "white",
            "gridwidth": 2,
            "linecolor": "white",
            "showbackground": true,
            "ticks": "",
            "zerolinecolor": "white"
           },
           "zaxis": {
            "backgroundcolor": "#E5ECF6",
            "gridcolor": "white",
            "gridwidth": 2,
            "linecolor": "white",
            "showbackground": true,
            "ticks": "",
            "zerolinecolor": "white"
           }
          },
          "shapedefaults": {
           "line": {
            "color": "#2a3f5f"
           }
          },
          "ternary": {
           "aaxis": {
            "gridcolor": "white",
            "linecolor": "white",
            "ticks": ""
           },
           "baxis": {
            "gridcolor": "white",
            "linecolor": "white",
            "ticks": ""
           },
           "bgcolor": "#E5ECF6",
           "caxis": {
            "gridcolor": "white",
            "linecolor": "white",
            "ticks": ""
           }
          },
          "title": {
           "x": 0.05
          },
          "xaxis": {
           "automargin": true,
           "gridcolor": "white",
           "linecolor": "white",
           "ticks": "",
           "title": {
            "standoff": 15
           },
           "zerolinecolor": "white",
           "zerolinewidth": 2
          },
          "yaxis": {
           "automargin": true,
           "gridcolor": "white",
           "linecolor": "white",
           "ticks": "",
           "title": {
            "standoff": 15
           },
           "zerolinecolor": "white",
           "zerolinewidth": 2
          }
         }
        },
        "xaxis": {
         "anchor": "y",
         "domain": [
          0,
          1
         ],
         "title": {
          "text": "x"
         }
        },
        "yaxis": {
         "anchor": "x",
         "domain": [
          0,
          1
         ],
         "title": {
          "text": "y"
         }
        }
       }
      },
      "text/html": [
       "<div>                            <div id=\"c579dda7-bdb4-4326-afe8-71f59fa1ee67\" class=\"plotly-graph-div\" style=\"height:525px; width:100%;\"></div>            <script type=\"text/javascript\">                require([\"plotly\"], function(Plotly) {                    window.PLOTLYENV=window.PLOTLYENV || {};                                    if (document.getElementById(\"c579dda7-bdb4-4326-afe8-71f59fa1ee67\")) {                    Plotly.newPlot(                        \"c579dda7-bdb4-4326-afe8-71f59fa1ee67\",                        [{\"hovertemplate\":\"color=\\u0421\\u0442\\u0438\\u0432\\u0430<br>x=%{x}<br>y=%{y}<extra></extra>\",\"legendgroup\":\"\\u0421\\u0442\\u0438\\u0432\\u0430\",\"line\":{\"color\":\"#636efa\",\"dash\":\"solid\"},\"marker\":{\"symbol\":\"circle\"},\"mode\":\"lines\",\"name\":\"\\u0421\\u0442\\u0438\\u0432\\u0430\",\"orientation\":\"v\",\"showlegend\":true,\"x\":[1,3,4,6,7],\"xaxis\":\"x\",\"y\":[0.2413793103448276,0.85,0.3333333333333333,0.25,1.0],\"yaxis\":\"y\",\"type\":\"scatter\"},{\"hovertemplate\":\"color=\\u0410\\u043d\\u043d\\u0430<br>x=%{x}<br>y=%{y}<extra></extra>\",\"legendgroup\":\"\\u0410\\u043d\\u043d\\u0430\",\"line\":{\"color\":\"#EF553B\",\"dash\":\"solid\"},\"marker\":{\"symbol\":\"circle\"},\"mode\":\"lines\",\"name\":\"\\u0410\\u043d\\u043d\\u0430\",\"orientation\":\"v\",\"showlegend\":true,\"x\":[1,2,3,4,5,6,7],\"xaxis\":\"x\",\"y\":[0.5269230769230769,0.4444444444444444,0.5153846153846153,0.7909090909090909,0.496551724137931,0.8142857142857143,0.5111111111111111],\"yaxis\":\"y\",\"type\":\"scatter\"},{\"hovertemplate\":\"color=\\u0412\\u0440\\u043e\\u043d\\u0441\\u043a\\u0438\\u0439<br>x=%{x}<br>y=%{y}<extra></extra>\",\"legendgroup\":\"\\u0412\\u0440\\u043e\\u043d\\u0441\\u043a\\u0438\\u0439\",\"line\":{\"color\":\"#00cc96\",\"dash\":\"solid\"},\"marker\":{\"symbol\":\"circle\"},\"mode\":\"lines\",\"name\":\"\\u0412\\u0440\\u043e\\u043d\\u0441\\u043a\\u0438\\u0439\",\"orientation\":\"v\",\"showlegend\":true,\"x\":[1,2,3,4,5,6,7,8],\"xaxis\":\"x\",\"y\":[0.6,0.5241935483870968,0.8722222222222222,0.5045454545454545,0.3941176470588235,0.27,0.42857142857142855,0.5],\"yaxis\":\"y\",\"type\":\"scatter\"},{\"hovertemplate\":\"color=\\u041a\\u0430\\u0440\\u0435\\u043d\\u0438\\u043d<br>x=%{x}<br>y=%{y}<extra></extra>\",\"legendgroup\":\"\\u041a\\u0430\\u0440\\u0435\\u043d\\u0438\\u043d\",\"line\":{\"color\":\"#ab63fa\",\"dash\":\"solid\"},\"marker\":{\"symbol\":\"circle\"},\"mode\":\"lines\",\"name\":\"\\u041a\\u0430\\u0440\\u0435\\u043d\\u0438\\u043d\",\"orientation\":\"v\",\"showlegend\":true,\"x\":[1,2,3,4,5,6,7],\"xaxis\":\"x\",\"y\":[0.54,0.67,0.6714285714285714,0.4014925373134328,0.5153846153846153,-0.2,0.2875],\"yaxis\":\"y\",\"type\":\"scatter\"},{\"hovertemplate\":\"color=\\u041a\\u0438\\u0442\\u0438<br>x=%{x}<br>y=%{y}<extra></extra>\",\"legendgroup\":\"\\u041a\\u0438\\u0442\\u0438\",\"line\":{\"color\":\"#FFA15A\",\"dash\":\"solid\"},\"marker\":{\"symbol\":\"circle\"},\"mode\":\"lines\",\"name\":\"\\u041a\\u0438\\u0442\\u0438\",\"orientation\":\"v\",\"showlegend\":true,\"x\":[1,2,4,5,6,7,8],\"xaxis\":\"x\",\"y\":[0.5708333333333333,0.39565217391304347,1.0,0.5,0.3375,0.2333333333333333,0.0],\"yaxis\":\"y\",\"type\":\"scatter\"},{\"hovertemplate\":\"color=\\u041b\\u0435\\u0432\\u0438\\u043d<br>x=%{x}<br>y=%{y}<extra></extra>\",\"legendgroup\":\"\\u041b\\u0435\\u0432\\u0438\\u043d\",\"line\":{\"color\":\"#19d3f3\",\"dash\":\"solid\"},\"marker\":{\"symbol\":\"circle\"},\"mode\":\"lines\",\"name\":\"\\u041b\\u0435\\u0432\\u0438\\u043d\",\"orientation\":\"v\",\"showlegend\":true,\"x\":[1,2,3,4,5,6,7,8],\"xaxis\":\"x\",\"y\":[0.5826086956521739,0.16129032258064516,0.5511111111111111,0.5351351351351351,0.6436781609195402,0.3875,0.45652173913043476,0.275],\"yaxis\":\"y\",\"type\":\"scatter\"},{\"hovertemplate\":\"color=\\u0414\\u043e\\u043b\\u043b\\u0438<br>x=%{x}<br>y=%{y}<extra></extra>\",\"legendgroup\":\"\\u0414\\u043e\\u043b\\u043b\\u0438\",\"line\":{\"color\":\"#FF6692\",\"dash\":\"solid\"},\"marker\":{\"symbol\":\"circle\"},\"mode\":\"lines\",\"name\":\"\\u0414\\u043e\\u043b\\u043b\\u0438\",\"orientation\":\"v\",\"showlegend\":true,\"x\":[1,2,3,5,6,7],\"xaxis\":\"x\",\"y\":[0.6923076923076923,0.42857142857142855,0.3333333333333333,1.0,0.6241379310344828,0.5],\"yaxis\":\"y\",\"type\":\"scatter\"}],                        {\"template\":{\"data\":{\"histogram2dcontour\":[{\"type\":\"histogram2dcontour\",\"colorbar\":{\"outlinewidth\":0,\"ticks\":\"\"},\"colorscale\":[[0.0,\"#0d0887\"],[0.1111111111111111,\"#46039f\"],[0.2222222222222222,\"#7201a8\"],[0.3333333333333333,\"#9c179e\"],[0.4444444444444444,\"#bd3786\"],[0.5555555555555556,\"#d8576b\"],[0.6666666666666666,\"#ed7953\"],[0.7777777777777778,\"#fb9f3a\"],[0.8888888888888888,\"#fdca26\"],[1.0,\"#f0f921\"]]}],\"choropleth\":[{\"type\":\"choropleth\",\"colorbar\":{\"outlinewidth\":0,\"ticks\":\"\"}}],\"histogram2d\":[{\"type\":\"histogram2d\",\"colorbar\":{\"outlinewidth\":0,\"ticks\":\"\"},\"colorscale\":[[0.0,\"#0d0887\"],[0.1111111111111111,\"#46039f\"],[0.2222222222222222,\"#7201a8\"],[0.3333333333333333,\"#9c179e\"],[0.4444444444444444,\"#bd3786\"],[0.5555555555555556,\"#d8576b\"],[0.6666666666666666,\"#ed7953\"],[0.7777777777777778,\"#fb9f3a\"],[0.8888888888888888,\"#fdca26\"],[1.0,\"#f0f921\"]]}],\"heatmap\":[{\"type\":\"heatmap\",\"colorbar\":{\"outlinewidth\":0,\"ticks\":\"\"},\"colorscale\":[[0.0,\"#0d0887\"],[0.1111111111111111,\"#46039f\"],[0.2222222222222222,\"#7201a8\"],[0.3333333333333333,\"#9c179e\"],[0.4444444444444444,\"#bd3786\"],[0.5555555555555556,\"#d8576b\"],[0.6666666666666666,\"#ed7953\"],[0.7777777777777778,\"#fb9f3a\"],[0.8888888888888888,\"#fdca26\"],[1.0,\"#f0f921\"]]}],\"heatmapgl\":[{\"type\":\"heatmapgl\",\"colorbar\":{\"outlinewidth\":0,\"ticks\":\"\"},\"colorscale\":[[0.0,\"#0d0887\"],[0.1111111111111111,\"#46039f\"],[0.2222222222222222,\"#7201a8\"],[0.3333333333333333,\"#9c179e\"],[0.4444444444444444,\"#bd3786\"],[0.5555555555555556,\"#d8576b\"],[0.6666666666666666,\"#ed7953\"],[0.7777777777777778,\"#fb9f3a\"],[0.8888888888888888,\"#fdca26\"],[1.0,\"#f0f921\"]]}],\"contourcarpet\":[{\"type\":\"contourcarpet\",\"colorbar\":{\"outlinewidth\":0,\"ticks\":\"\"}}],\"contour\":[{\"type\":\"contour\",\"colorbar\":{\"outlinewidth\":0,\"ticks\":\"\"},\"colorscale\":[[0.0,\"#0d0887\"],[0.1111111111111111,\"#46039f\"],[0.2222222222222222,\"#7201a8\"],[0.3333333333333333,\"#9c179e\"],[0.4444444444444444,\"#bd3786\"],[0.5555555555555556,\"#d8576b\"],[0.6666666666666666,\"#ed7953\"],[0.7777777777777778,\"#fb9f3a\"],[0.8888888888888888,\"#fdca26\"],[1.0,\"#f0f921\"]]}],\"surface\":[{\"type\":\"surface\",\"colorbar\":{\"outlinewidth\":0,\"ticks\":\"\"},\"colorscale\":[[0.0,\"#0d0887\"],[0.1111111111111111,\"#46039f\"],[0.2222222222222222,\"#7201a8\"],[0.3333333333333333,\"#9c179e\"],[0.4444444444444444,\"#bd3786\"],[0.5555555555555556,\"#d8576b\"],[0.6666666666666666,\"#ed7953\"],[0.7777777777777778,\"#fb9f3a\"],[0.8888888888888888,\"#fdca26\"],[1.0,\"#f0f921\"]]}],\"mesh3d\":[{\"type\":\"mesh3d\",\"colorbar\":{\"outlinewidth\":0,\"ticks\":\"\"}}],\"scatter\":[{\"fillpattern\":{\"fillmode\":\"overlay\",\"size\":10,\"solidity\":0.2},\"type\":\"scatter\"}],\"parcoords\":[{\"type\":\"parcoords\",\"line\":{\"colorbar\":{\"outlinewidth\":0,\"ticks\":\"\"}}}],\"scatterpolargl\":[{\"type\":\"scatterpolargl\",\"marker\":{\"colorbar\":{\"outlinewidth\":0,\"ticks\":\"\"}}}],\"bar\":[{\"error_x\":{\"color\":\"#2a3f5f\"},\"error_y\":{\"color\":\"#2a3f5f\"},\"marker\":{\"line\":{\"color\":\"#E5ECF6\",\"width\":0.5},\"pattern\":{\"fillmode\":\"overlay\",\"size\":10,\"solidity\":0.2}},\"type\":\"bar\"}],\"scattergeo\":[{\"type\":\"scattergeo\",\"marker\":{\"colorbar\":{\"outlinewidth\":0,\"ticks\":\"\"}}}],\"scatterpolar\":[{\"type\":\"scatterpolar\",\"marker\":{\"colorbar\":{\"outlinewidth\":0,\"ticks\":\"\"}}}],\"histogram\":[{\"marker\":{\"pattern\":{\"fillmode\":\"overlay\",\"size\":10,\"solidity\":0.2}},\"type\":\"histogram\"}],\"scattergl\":[{\"type\":\"scattergl\",\"marker\":{\"colorbar\":{\"outlinewidth\":0,\"ticks\":\"\"}}}],\"scatter3d\":[{\"type\":\"scatter3d\",\"line\":{\"colorbar\":{\"outlinewidth\":0,\"ticks\":\"\"}},\"marker\":{\"colorbar\":{\"outlinewidth\":0,\"ticks\":\"\"}}}],\"scattermapbox\":[{\"type\":\"scattermapbox\",\"marker\":{\"colorbar\":{\"outlinewidth\":0,\"ticks\":\"\"}}}],\"scatterternary\":[{\"type\":\"scatterternary\",\"marker\":{\"colorbar\":{\"outlinewidth\":0,\"ticks\":\"\"}}}],\"scattercarpet\":[{\"type\":\"scattercarpet\",\"marker\":{\"colorbar\":{\"outlinewidth\":0,\"ticks\":\"\"}}}],\"carpet\":[{\"aaxis\":{\"endlinecolor\":\"#2a3f5f\",\"gridcolor\":\"white\",\"linecolor\":\"white\",\"minorgridcolor\":\"white\",\"startlinecolor\":\"#2a3f5f\"},\"baxis\":{\"endlinecolor\":\"#2a3f5f\",\"gridcolor\":\"white\",\"linecolor\":\"white\",\"minorgridcolor\":\"white\",\"startlinecolor\":\"#2a3f5f\"},\"type\":\"carpet\"}],\"table\":[{\"cells\":{\"fill\":{\"color\":\"#EBF0F8\"},\"line\":{\"color\":\"white\"}},\"header\":{\"fill\":{\"color\":\"#C8D4E3\"},\"line\":{\"color\":\"white\"}},\"type\":\"table\"}],\"barpolar\":[{\"marker\":{\"line\":{\"color\":\"#E5ECF6\",\"width\":0.5},\"pattern\":{\"fillmode\":\"overlay\",\"size\":10,\"solidity\":0.2}},\"type\":\"barpolar\"}],\"pie\":[{\"automargin\":true,\"type\":\"pie\"}]},\"layout\":{\"autotypenumbers\":\"strict\",\"colorway\":[\"#636efa\",\"#EF553B\",\"#00cc96\",\"#ab63fa\",\"#FFA15A\",\"#19d3f3\",\"#FF6692\",\"#B6E880\",\"#FF97FF\",\"#FECB52\"],\"font\":{\"color\":\"#2a3f5f\"},\"hovermode\":\"closest\",\"hoverlabel\":{\"align\":\"left\"},\"paper_bgcolor\":\"white\",\"plot_bgcolor\":\"#E5ECF6\",\"polar\":{\"bgcolor\":\"#E5ECF6\",\"angularaxis\":{\"gridcolor\":\"white\",\"linecolor\":\"white\",\"ticks\":\"\"},\"radialaxis\":{\"gridcolor\":\"white\",\"linecolor\":\"white\",\"ticks\":\"\"}},\"ternary\":{\"bgcolor\":\"#E5ECF6\",\"aaxis\":{\"gridcolor\":\"white\",\"linecolor\":\"white\",\"ticks\":\"\"},\"baxis\":{\"gridcolor\":\"white\",\"linecolor\":\"white\",\"ticks\":\"\"},\"caxis\":{\"gridcolor\":\"white\",\"linecolor\":\"white\",\"ticks\":\"\"}},\"coloraxis\":{\"colorbar\":{\"outlinewidth\":0,\"ticks\":\"\"}},\"colorscale\":{\"sequential\":[[0.0,\"#0d0887\"],[0.1111111111111111,\"#46039f\"],[0.2222222222222222,\"#7201a8\"],[0.3333333333333333,\"#9c179e\"],[0.4444444444444444,\"#bd3786\"],[0.5555555555555556,\"#d8576b\"],[0.6666666666666666,\"#ed7953\"],[0.7777777777777778,\"#fb9f3a\"],[0.8888888888888888,\"#fdca26\"],[1.0,\"#f0f921\"]],\"sequentialminus\":[[0.0,\"#0d0887\"],[0.1111111111111111,\"#46039f\"],[0.2222222222222222,\"#7201a8\"],[0.3333333333333333,\"#9c179e\"],[0.4444444444444444,\"#bd3786\"],[0.5555555555555556,\"#d8576b\"],[0.6666666666666666,\"#ed7953\"],[0.7777777777777778,\"#fb9f3a\"],[0.8888888888888888,\"#fdca26\"],[1.0,\"#f0f921\"]],\"diverging\":[[0,\"#8e0152\"],[0.1,\"#c51b7d\"],[0.2,\"#de77ae\"],[0.3,\"#f1b6da\"],[0.4,\"#fde0ef\"],[0.5,\"#f7f7f7\"],[0.6,\"#e6f5d0\"],[0.7,\"#b8e186\"],[0.8,\"#7fbc41\"],[0.9,\"#4d9221\"],[1,\"#276419\"]]},\"xaxis\":{\"gridcolor\":\"white\",\"linecolor\":\"white\",\"ticks\":\"\",\"title\":{\"standoff\":15},\"zerolinecolor\":\"white\",\"automargin\":true,\"zerolinewidth\":2},\"yaxis\":{\"gridcolor\":\"white\",\"linecolor\":\"white\",\"ticks\":\"\",\"title\":{\"standoff\":15},\"zerolinecolor\":\"white\",\"automargin\":true,\"zerolinewidth\":2},\"scene\":{\"xaxis\":{\"backgroundcolor\":\"#E5ECF6\",\"gridcolor\":\"white\",\"linecolor\":\"white\",\"showbackground\":true,\"ticks\":\"\",\"zerolinecolor\":\"white\",\"gridwidth\":2},\"yaxis\":{\"backgroundcolor\":\"#E5ECF6\",\"gridcolor\":\"white\",\"linecolor\":\"white\",\"showbackground\":true,\"ticks\":\"\",\"zerolinecolor\":\"white\",\"gridwidth\":2},\"zaxis\":{\"backgroundcolor\":\"#E5ECF6\",\"gridcolor\":\"white\",\"linecolor\":\"white\",\"showbackground\":true,\"ticks\":\"\",\"zerolinecolor\":\"white\",\"gridwidth\":2}},\"shapedefaults\":{\"line\":{\"color\":\"#2a3f5f\"}},\"annotationdefaults\":{\"arrowcolor\":\"#2a3f5f\",\"arrowhead\":0,\"arrowwidth\":1},\"geo\":{\"bgcolor\":\"white\",\"landcolor\":\"#E5ECF6\",\"subunitcolor\":\"white\",\"showland\":true,\"showlakes\":true,\"lakecolor\":\"white\"},\"title\":{\"x\":0.05},\"mapbox\":{\"style\":\"light\"}}},\"xaxis\":{\"anchor\":\"y\",\"domain\":[0.0,1.0],\"title\":{\"text\":\"x\"}},\"yaxis\":{\"anchor\":\"x\",\"domain\":[0.0,1.0],\"title\":{\"text\":\"y\"}},\"legend\":{\"title\":{\"text\":\"color\"},\"tracegroupgap\":0},\"margin\":{\"t\":60}},                        {\"responsive\": true}                    ).then(function(){\n",
       "                            \n",
       "var gd = document.getElementById('c579dda7-bdb4-4326-afe8-71f59fa1ee67');\n",
       "var x = new MutationObserver(function (mutations, observer) {{\n",
       "        var display = window.getComputedStyle(gd).display;\n",
       "        if (!display || display === 'none') {{\n",
       "            console.log([gd, 'removed!']);\n",
       "            Plotly.purge(gd);\n",
       "            observer.disconnect();\n",
       "        }}\n",
       "}});\n",
       "\n",
       "// Listen for the removal of the full notebook cells\n",
       "var notebookContainer = gd.closest('#notebook-container');\n",
       "if (notebookContainer) {{\n",
       "    x.observe(notebookContainer, {childList: true});\n",
       "}}\n",
       "\n",
       "// Listen for the clearing of the current output cell\n",
       "var outputEl = gd.closest('.output');\n",
       "if (outputEl) {{\n",
       "    x.observe(outputEl, {childList: true});\n",
       "}}\n",
       "\n",
       "                        })                };                });            </script>        </div>"
      ]
     },
     "metadata": {},
     "output_type": "display_data"
    }
   ],
   "source": [
    "#3\n",
    "import plotly.express as px\n",
    "fig = px.line(x=whole_x, y=whole_y, color=name)\n",
    "fig.show()"
   ]
  },
  {
   "cell_type": "markdown",
   "id": "0e99722a",
   "metadata": {},
   "source": [
    "план\n",
    "1. перебираем фреймы\n",
    "2. если в ролях хотя бы одно имя, сохраняем\n",
    "3. глазами просматриваем второго участника\n",
    "4. если два имени, сразу сохраняем все нужные данные\n",
    "5. если второе - не имя, то смотрим по ситуации\n",
    "6. потом уже анализируем падежи в словаре\n",
    "\n",
    "остановилась на 0_76"
   ]
  },
  {
   "cell_type": "code",
   "execution_count": 57,
   "id": "a0ca7447",
   "metadata": {},
   "outputs": [],
   "source": [
    "with open('roles.json', 'r', encoding='utf-8') as r:\n",
    "    roles = json.load(r)\n",
    "    roles = roles[0]"
   ]
  },
  {
   "cell_type": "code",
   "execution_count": 58,
   "id": "11c509c5",
   "metadata": {},
   "outputs": [
    {
     "name": "stderr",
     "output_type": "stream",
     "text": [
      "100%|██████████████████████████████████████████████████████████████████████████████| 2300/2300 [03:57<00:00,  9.69it/s]\n"
     ]
    }
   ],
   "source": [
    "#переходим к части страданий\n",
    "attits = {}\n",
    "for t in tqdm(all_text):\n",
    "    if len(t['names'].split(',')) > 1:\n",
    "        text = t['text']\n",
    "        frs = t['frame'].replace(\"['\", '')\n",
    "        frs = frs.replace(\"'\", '')\n",
    "        frs = frs.replace(\"]\", '')\n",
    "        frs = frs.split(', ')\n",
    "        nums = t['frame_num'].replace('[', '')\n",
    "        nums = nums.replace(\"'\", '')\n",
    "        nums = nums.replace(\"]\", '')\n",
    "        nums = nums.split(', ')\n",
    "        for i, frame in enumerate(frs):\n",
    "            framed = []\n",
    "         #   print(text)\n",
    "            num = nums[i]\n",
    "            if 'polarity' in data[num]['frames'].keys():\n",
    "                animacies = 0\n",
    "                for role in roles[num].values():\n",
    "                    if role[0] == 'ANIM':\n",
    "                        animacies += 1\n",
    "                if animacies > 1:\n",
    "                  #  print(frame)\n",
    "                    parsed = parse_sent(text)\n",
    "                 #   print(text)\n",
    "                    for d in parsed:\n",
    "                        roots = []\n",
    "                        for dep in d:\n",
    "                            if frame == morph.parse(str(dep[0][0]))[0].normal_form or frame.split()[0] == morph.parse(str(dep[0][0]))[0].normal_form:\n",
    "                                if dep[1] == 'nsubj' or dep[1] == 'obj':\n",
    "                                    roots.append(dep[0])\n",
    "                        for r in set(roots):\n",
    "                            for dep in d:\n",
    "                                if dep[0] == r:\n",
    "                                    if dep[1] == 'nsubj' and dep[2][1] == 'PROPN':\n",
    "                                        framed.append(dep)\n",
    "                                    elif dep[1] == 'obj' and dep[2][1] == 'PROPN':\n",
    "                                        framed.append(dep)\n",
    "                                    elif dep[1] == 'obl' and dep[2][1] == 'PROPN':\n",
    "                                        framed.append(dep)\n",
    "                        for dep in d:\n",
    "                            if frame == morph.parse(str(dep[0][0]))[0].normal_form or frame.split()[0] == morph.parse(str(dep[0][0]))[0].normal_form:\n",
    "                                if dep[1] == 'nsubj':\n",
    "                                    name = dep[2][0]\n",
    "                                    if dep[2][1] == 'PROPN':\n",
    "                                        na = morph.parse(name)[0].normal_form\n",
    "                                        na = na.title()\n",
    "                                        if na in ['Степан', 'Облонский', 'Стив', 'Стива', 'Аркадьич']:\n",
    "                                            nsubj['Стива'].append({'id': t['id'], 'FRAME_NUM': num})\n",
    "                                        elif na in ['Анна', 'Аркадьевна', 'Каренина']:\n",
    "                                            nsubj['Анна'].append({'id': t['id'], 'FRAME_NUM': num})\n",
    "                                        elif na in ['Левин', 'Костя', 'Константин']:\n",
    "                                            nsubj['Левин'].append({'id': t['id'], 'FRAME_NUM': num})\n",
    "                                        elif na in ['Кити', 'Кить', 'Щербацкая', 'Екатерина']:\n",
    "                                            nsubj['Кити'].append({'id': t['id'], 'FRAME_NUM': num})\n",
    "                                        elif na in ['Долли', 'Дарья', 'Александровна', 'Облонская']:\n",
    "                                            nsubj['Долли'].append({'id': t['id'], 'FRAME_NUM': num})\n",
    "                                        elif na in ['Вронский', 'Кириллович']:\n",
    "                                            nsubj['Вронский'].append({'id': t['id'], 'FRAME_NUM': num})\n",
    "                                        elif na in ['Каренин', 'Александрович', 'Алексей']:\n",
    "                                            nsubj['Каренин'].append({'id': t['id'], 'FRAME_NUM': num})\n",
    "                                        \n",
    "                elif animacies == 1:\n",
    "                    for d in parsed:\n",
    "                        for dep in d:\n",
    "                            if frame == morph.parse(str(dep[0][0]))[0].normal_form or frame.split()[0] == morph.parse(str(dep[0][0]))[0].normal_form:\n",
    "                                if dep[1] == 'nsubj':\n",
    "                                    name = dep[2][0]\n",
    "                                    if dep[2][1] == 'PROPN':\n",
    "                                        na = morph.parse(name)[0].normal_form\n",
    "                                        na = na.title()\n",
    "                                        if na in ['Степан', 'Облонский', 'Стив', 'Стива', 'Аркадьич']:\n",
    "                                            nsubj['Стива'].append({'id': t['id'], 'FRAME_NUM': num})\n",
    "                                        elif na in ['Анна', 'Аркадьевна', 'Каренина']:\n",
    "                                            nsubj['Анна'].append({'id': t['id'], 'FRAME_NUM': num})\n",
    "                                        elif na in ['Левин', 'Костя', 'Константин']:\n",
    "                                            nsubj['Левин'].append({'id': t['id'], 'FRAME_NUM': num})\n",
    "                                        elif na in ['Кити', 'Кить', 'Щербацкая', 'Екатерина']:\n",
    "                                            nsubj['Кити'].append({'id': t['id'], 'FRAME_NUM': num})\n",
    "                                        elif na in ['Долли', 'Дарья', 'Александровна', 'Облонская']:\n",
    "                                            nsubj['Долли'].append({'id': t['id'], 'FRAME_NUM': num})\n",
    "                                        elif na in ['Вронский', 'Кириллович']:\n",
    "                                            nsubj['Вронский'].append({'id': t['id'], 'FRAME_NUM': num})\n",
    "                                        elif na in ['Каренин', 'Александрович', 'Алексей']:\n",
    "                                            nsubj['Каренин'].append({'id': t['id'], 'FRAME_NUM': num})\n",
    "                                        \n",
    "                if len(framed) > 1:\n",
    "                    this_atts = {}\n",
    "                    for attitude in data[num]['frames']['polarity']:\n",
    "                        if 'author' not in attitude:\n",
    "                            pers1 = attitude[0]\n",
    "                            pers2 = attitude[1]\n",
    "                            if roles[num][pers1][0] == 'ANIM' and roles[num][pers2][0] == 'ANIM':\n",
    "                                chars = [morph.parse(str(a[2][0]))[0].normal_form for a in framed]\n",
    "                                if len(set(chars)) > 1:\n",
    "                                    if framed[0][1] != 'nsubj':\n",
    "                                        framed = list(reversed(framed))\n",
    "                                    if this_atts == {}:\n",
    "                                        for i, p in enumerate(attitude[:2]):\n",
    "                                            this_atts[p] = framed[i][2][0]\n",
    "                                    if attitude[0] in this_atts.keys() and attitude[1] in this_atts.keys():\n",
    "                                        first = morph.parse(str(this_atts[attitude[0]]))[0].normal_form \n",
    "                                        if first not in attits.keys():\n",
    "                                            attits[first] = {}\n",
    "                                        second = morph.parse(str(this_atts[attitude[1]]))[0].normal_form\n",
    "                                        if second not in attits[first].keys():\n",
    "                                            attits[first][second] = []\n",
    "                                        attits[first][second].append(attitude[-2:])\n",
    "                                        \n",
    "                            \n",
    "                        \n",
    "                                        \n",
    "                \n",
    "                 #тут добавляем к стейт_эффект       "
   ]
  },
  {
   "cell_type": "code",
   "execution_count": 45,
   "id": "5ee0cac7",
   "metadata": {},
   "outputs": [
    {
     "data": {
      "text/plain": [
       "{'левин': {'облонской': [['pos', 1.0]],\n",
       "  'анна': [['neg', 1.0]],\n",
       "  'кить': [['neg', 1.0], ['pos', 0.7], ['pos', 0.7], ['pos', 1.0]],\n",
       "  'весловский': [['pos', 1.0]],\n",
       "  'степан': [['pos', 0.7]],\n",
       "  'москва': [['pos', 1.0]]},\n",
       " 'долли': {'анна': [['pos', 1.0]],\n",
       "  'левин': [['pos', 0.7]],\n",
       "  'кить': [['neg', 1.0]]},\n",
       " 'анна': {'левин': [['neg', 1.0]],\n",
       "  'вронский': [['pos', 1.0], ['pos', 1.0], ['neg', 1.0]],\n",
       "  'яшвино': [['neg', 1.0]],\n",
       "  'тушкевич': [['pos', 1.0]]},\n",
       " 'вронский': {'анна': [['pos', 1.0], ['neg', 1.0], ['pos', 0.7]],\n",
       "  'кить': [['neg', 1.0]],\n",
       "  'анне': [['neg', 1.0]],\n",
       "  'лидия': [['neg', 0.7]]},\n",
       " 'кить': {'левин': [['neg', 1.0], ['pos', 1.0], ['pos', 1.0], ['neg', 1.0]],\n",
       "  'вронский': [['neg', 1.0]],\n",
       "  'щербацкий': [['neg', 1.0]],\n",
       "  'долли': [['neg', 1.0]],\n",
       "  'аркадьич': [['pos', 0.7]]},\n",
       " 'анне': {'вронский': [['neg', 1.0]], 'алексей': [['neg', 1.0]]},\n",
       " 'москва': {'депутация': [['neg', 1.0]], 'левин': [['pos', 0.7]]},\n",
       " 'депутация': {'москва': [['neg', 1.0]]},\n",
       " 'алексей': {'александрович': [['neg', 1.0], ['neg', 0.7]],\n",
       "  'анне': [['neg', 1.0]]},\n",
       " 'александрович': {'алексей': [['neg', 1.0], ['neg', 1.0]]},\n",
       " 'степан': {'степан': [['pos', 0.7]], 'левин': [['pos', 0.7]]},\n",
       " 'щербацкий': {'кить': [['neg', 1.0]]},\n",
       " 'лидия': {'вронский': [['neg', 1.0]]},\n",
       " 'яшвино': {'анна': [['neg', 1.0]]},\n",
       " 'тушкевич': {'анна': [['pos', 0.7]]},\n",
       " 'весловский': {'левин': [['pos', 1.0]]},\n",
       " 'дарья': {'вронский': [['pos', 1.0]]},\n",
       " 'лизавета': {'левин': [['pos', 0.7]]},\n",
       " 'аркадьич': {'кить': [['pos', 0.7]]}}"
      ]
     },
     "execution_count": 45,
     "metadata": {},
     "output_type": "execute_result"
    }
   ],
   "source": [
    "attits"
   ]
  },
  {
   "cell_type": "code",
   "execution_count": 47,
   "id": "eb45e2b0",
   "metadata": {},
   "outputs": [],
   "source": [
    "#делаем отдельную таблицу по персонажам за всю книгу\n",
    "ccs = {'Стива': {}, 'Анна': {}, 'Вронский': {}, 'Каренин': {}, 'Кити': {}, 'Левин': {}, 'Долли': {}}\n",
    "for char, part in nsubj.items():\n",
    "    states = []\n",
    "    for state in part:\n",
    "        num = state['FRAME_NUM']\n",
    "        ef_st = 0\n",
    "        all_ef = data[num]['frames']\n",
    "   #     print(all_ef)\n",
    "        if 'effect' in all_ef.keys():\n",
    "            a = all_ef['effect'][0]\n",
    "            if a[1] == '+':\n",
    "                ef_st = float(a[2])\n",
    "            else:\n",
    "                ef_st = float(str(a[1]) + str(a[2]))\n",
    "        elif 'state' in all_ef.keys():\n",
    "            a = all_ef['state'][0]\n",
    "            if a[1] == 'pos':\n",
    "                ef_st = float(a[2])\n",
    "            else:\n",
    "                ef_st = float('-' + str(a[2]))\n",
    "        if ef_st != 0:\n",
    "            states.append(ef_st)\n",
    "    ccs[char] = {'количество': len(states), 'state': mean(states)}"
   ]
  }
 ],
 "metadata": {
  "kernelspec": {
   "display_name": "Python 3 (ipykernel)",
   "language": "python",
   "name": "python3"
  },
  "language_info": {
   "codemirror_mode": {
    "name": "ipython",
    "version": 3
   },
   "file_extension": ".py",
   "mimetype": "text/x-python",
   "name": "python",
   "nbconvert_exporter": "python",
   "pygments_lexer": "ipython3",
   "version": "3.10.0"
  }
 },
 "nbformat": 4,
 "nbformat_minor": 5
}
